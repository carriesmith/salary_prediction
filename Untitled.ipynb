{
 "cells": [
  {
   "cell_type": "code",
   "execution_count": 1,
   "metadata": {
    "collapsed": true
   },
   "outputs": [],
   "source": [
    "# Pandas --> Data Frames\n",
    "import pandas as pd\n",
    "\n",
    "# numpy --> scientific computing with Python\n",
    "import numpy as np\n",
    "np.set_printoptions(threshold=np.nan)\n",
    "\n",
    "# matplotlib --> graphing library\n",
    "from matplotlib import pyplot as plt\n",
    "%matplotlib inline\n",
    "\n",
    "# Seaborn --> makes matplotlib prettier\n",
    "import seaborn as sb\n",
    "\n",
    "# sklearn for linear regression and cross-validation\n",
    "from sklearn.linear_model import LinearRegression, Ridge, Lasso\n",
    "from sklearn.cross_validation import train_test_split\n",
    "\n",
    "# statsmodels for linear regression\n",
    "import statsmodels.api as sm\n",
    "\n",
    "# statsmodels formula api\n",
    "import statsmodels.formula.api as smf\n",
    "\n",
    "# patsy dmatrices to create model matrix\n",
    "from patsy import dmatrices\n",
    "from patsy import ModelDesc, EvalEnvironment\n",
    "\n",
    "# needed for cleaning nan's from dictionaries\n",
    "from math import isnan\n",
    "\n",
    "# Cross-validating models\n",
    "from sklearn.cross_validation import cross_val_score, KFold\n",
    "\n",
    "# Text Processing\n",
    "from sklearn.feature_extraction.text import CountVectorizer\n",
    "from  sklearn.feature_extraction import DictVectorizer"
   ]
  },
  {
   "cell_type": "code",
   "execution_count": 9,
   "metadata": {
    "collapsed": false
   },
   "outputs": [
    {
     "name": "stdout",
     "output_type": "stream",
     "text": [
      "[u'account', u'administrator', u'advisor', u'analyst', u'assistant', u'business', u'care', u'care assistant', u'care worker', u'chef', u'chef partie', u'commercial', u'consultant', u'customer', u'deputy', u'deputy manager', u'design', u'design engineer', u'developer', u'development', u'engineer', u'executive', u'general', u'health', u'home', u'home manager', u'hotel', u'job', u'jobs', u'lead', u'leader', u'live', u'london', u'maintenance', u'manager', u'mechanical', u'nurse', u'nursing', u'nursing home', u'officer', u'partie', u'practitioner', u'project', u'project manager', u'quality', u'recruitment', u'recruitment consultant', u'registered', u'registered nurse', u'required', u'rgn', u'rgn rmn', u'rmn', u'sales', u'sales executive', u'senior', u'service', u'services', u'social', u'social worker', u'software', u'staff', u'staff nurse', u'support', u'support worker', u'teacher', u'team', u'technical', u'technician', u'web', u'worker', u'worker job', u'workers']\n"
     ]
    }
   ],
   "source": [
    "data_original = pd.read_csv(\"/Users/carriesmith/Dropbox/GA/datascience/salary_prediction/data/train.csv\")\n",
    "data = data_original\n",
    "\n",
    "data.columns = map(str.lower, data.columns)\n",
    "data['title'] = data['title'].str.lower()\n",
    "\n",
    "# required\n",
    "cols = data.columns\n",
    "data[cols[cols != 'salarynormalized']] = data[cols[cols != 'salarynormalized']].fillna(\"missing\")\n",
    "\n",
    "countVec = CountVectorizer( stop_words = 'english' , ngram_range=(1,3), \n",
    "                     max_features=100, # number of features\n",
    "                     min_df=.01, # only use words that appear at least some times (integer = absolute count)\n",
    "                     max_df=.95)  # ignore words that appear too frequently\n",
    "\n",
    "X, y = countVec.fit_transform(data.title).todense(), data.salarynormalized\n",
    "print countVec.get_feature_names()"
   ]
  },
  {
   "cell_type": "code",
   "execution_count": 13,
   "metadata": {
    "collapsed": false
   },
   "outputs": [
    {
     "name": "stdout",
     "output_type": "stream",
     "text": [
      "alpha     1.0000  OLS 9438.0864 Lasso 9435.8421 Ridge 9435.3113\n",
      "alpha     3.0000  OLS 9438.0842 Lasso 9433.0650 Ridge 9432.4581\n",
      "alpha    10.0000  OLS 9438.0847 Lasso 9418.2906 Ridge 9430.4209\n",
      "alpha    30.0000  OLS 9438.0864 Lasso 9497.7535 Ridge 9457.7983\n",
      "alpha   100.0000  OLS 9438.0846 Lasso 10077.5488 Ridge 9613.2979\n",
      "alpha   300.0000  OLS 9438.0842 Lasso 10899.3512 Ridge 9985.7530\n",
      "alpha  1000.0000  OLS 9438.0851 Lasso 11755.4470 Ridge 10643.6871\n",
      "alpha  3000.0000  OLS 9438.0855 Lasso 11853.8843 Ridge 11233.5997\n",
      "alpha 10000.0000  OLS 9438.0851 Lasso 11853.8843 Ridge 11621.4967\n"
     ]
    }
   ],
   "source": [
    "for alpha in [1,3,10,30,100,300,1000,3000,10000]:\n",
    "    print \"alpha %10.4f  OLS %.4f Lasso %.4f Ridge %.4f\" % \\\n",
    "        (alpha, \n",
    "         -cross_val_score(LinearRegression(), X, y, cv=10, scoring='mean_absolute_error').mean(),\n",
    "         -cross_val_score(Lasso(alpha), X, y, cv=10, scoring='mean_absolute_error').mean(), \n",
    "         -cross_val_score(Ridge(alpha), X, y, cv=10, scoring='mean_absolute_error').mean())"
   ]
  },
  {
   "cell_type": "code",
   "execution_count": 6,
   "metadata": {
    "collapsed": false
   },
   "outputs": [
    {
     "name": "stdout",
     "output_type": "stream",
     "text": [
      "[u'ability', u'able', u'apply', u'area', u'available', u'based', u'benefits', u'business', u'candidate', u'candidates', u'care', u'career', u'client', u'clients', u'communication', u'company', u'contact', u'currently', u'customer', u'cv', u'day', u'days', u'design', u'develop', u'development', u'employment', u'engineering', u'ensure', u'environment', u'essential', u'excellent', u'experience', u'experience working', u'experienced', u'general', u'good', u'health', u'high', u'home', u'hours', u'ideally', u'include', u'including', u'industry', u'information', u'job', u'join', u'key', u'knowledge', u'leading', u'level', u'looking', u'management', u'manager', u'need', u'needs', u'new', u'nurse', u'nursing', u'nursing home', u'offer', u'opportunities', u'opportunity', u'people', u'position', u'professional', u'project', u'projects', u'provide', u'qualified', u'quality', u'recruitment', u'registered', u'required', u'requirements', u'responsible', u'rgn', u'role', u'salary', u'sales', u'senior', u'service', u'services', u'skills', u'social', u'software', u'staff', u'standards', u'strong', u'successful', u'support', u'systems', u'team', u'technical', u'time', u'training', u'uk', u'work', u'working', u'years']\n"
     ]
    }
   ],
   "source": [
    "countVec = CountVectorizer( stop_words = 'english' , ngram_range=(1,3), \n",
    "                     max_features=100, # number of features\n",
    "                     min_df=.1, # only use words that appear at least some times (integer = absolute count)\n",
    "                     max_df=.95)  # ignore words that appear too frequently\n",
    "\n",
    "X, y = countVec.fit_transform(data.fulldescription).todense(), data.salarynormalized\n",
    "print countVec.get_feature_names()"
   ]
  },
  {
   "cell_type": "code",
   "execution_count": 8,
   "metadata": {
    "collapsed": false
   },
   "outputs": [
    {
     "name": "stdout",
     "output_type": "stream",
     "text": [
      "alpha     0.0010  OLS 9957.5947 Lasso 9957.5933 Ridge 9957.5945\n",
      "alpha     0.0100  OLS 9957.5947 Lasso 9957.5813 Ridge 9957.5928\n",
      "alpha     0.1000  OLS 9957.5947 Lasso 9957.4607 Ridge 9957.5756\n",
      "alpha     1.0000  OLS 9957.5947 Lasso 9956.2592 Ridge 9957.4046\n",
      "alpha    10.0000  OLS 9957.5947 Lasso 9944.8019 Ridge 9955.7088\n",
      "alpha   100.0000  OLS 9957.5947 Lasso 9891.1458 Ridge 9940.0381\n",
      "alpha  1000.0000  OLS 9957.5947 Lasso 10598.0135 Ridge 9861.9096\n",
      "alpha 10000.0000  OLS 9957.5947 Lasso 11853.8843 Ridge 10070.8745\n"
     ]
    }
   ],
   "source": [
    "for n in xrange(-3, 5):\n",
    "    alpha = 10 ** n\n",
    "    print \"alpha %10.4f  OLS %.4f Lasso %.4f Ridge %.4f\" % \\\n",
    "        (alpha, \n",
    "         -cross_val_score(LinearRegression(), X, y, cv=10, scoring='mean_absolute_error').mean(),\n",
    "         -cross_val_score(Lasso(alpha), X, y, cv=10, scoring='mean_absolute_error').mean(), \n",
    "         -cross_val_score(Ridge(alpha), X, y, cv=10, scoring='mean_absolute_error').mean())"
   ]
  },
  {
   "cell_type": "code",
   "execution_count": null,
   "metadata": {
    "collapsed": true
   },
   "outputs": [],
   "source": []
  }
 ],
 "metadata": {
  "kernelspec": {
   "display_name": "Python 2",
   "language": "python",
   "name": "python2"
  },
  "language_info": {
   "codemirror_mode": {
    "name": "ipython",
    "version": 2
   },
   "file_extension": ".py",
   "mimetype": "text/x-python",
   "name": "python",
   "nbconvert_exporter": "python",
   "pygments_lexer": "ipython2",
   "version": "2.7.10"
  }
 },
 "nbformat": 4,
 "nbformat_minor": 0
}
