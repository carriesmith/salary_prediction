{
 "cells": [
  {
   "cell_type": "markdown",
   "metadata": {},
   "source": [
    "## Libraries"
   ]
  },
  {
   "cell_type": "code",
   "execution_count": 2,
   "metadata": {
    "collapsed": true
   },
   "outputs": [],
   "source": [
    "# Pandas --> Data Frames\n",
    "import pandas as pd\n",
    "\n",
    "# numpy --> scientific computing with Python\n",
    "import numpy as np\n",
    "np.set_printoptions(threshold=np.nan)\n",
    "\n",
    "# matplotlib --> graphing library\n",
    "from matplotlib import pyplot as plt\n",
    "%matplotlib inline\n",
    "\n",
    "# Seaborn --> makes matplotlib prettier\n",
    "import seaborn as sb\n",
    "\n",
    "# sklearn for linear regression and cross-validation\n",
    "from sklearn.linear_model import LinearRegression, Ridge, Lasso\n",
    "from sklearn.cross_validation import train_test_split\n",
    "\n",
    "# statsmodels for linear regression\n",
    "import statsmodels.api as sm\n",
    "\n",
    "# statsmodels formula api\n",
    "import statsmodels.formula.api as smf\n",
    "\n",
    "# patsy dmatrices to create model matrix\n",
    "from patsy import dmatrices\n",
    "from patsy import ModelDesc, EvalEnvironment\n",
    "\n",
    "# needed for cleaning nan's from dictionaries\n",
    "from math import isnan\n",
    "\n",
    "# Cross-validating models\n",
    "from sklearn.cross_validation import cross_val_score, KFold\n",
    "\n",
    "# Text Processing\n",
    "from sklearn.feature_extraction.text import CountVectorizer\n",
    "from  sklearn.feature_extraction import DictVectorizer"
   ]
  },
  {
   "cell_type": "markdown",
   "metadata": {},
   "source": [
    "## Data"
   ]
  },
  {
   "cell_type": "code",
   "execution_count": 3,
   "metadata": {
    "collapsed": false
   },
   "outputs": [
    {
     "name": "stdout",
     "output_type": "stream",
     "text": [
      "(10000, 12)\n",
      "(15000, 12)\n"
     ]
    }
   ],
   "source": [
    "data_train = pd.read_csv(\"/Users/carriesmith/Dropbox/GA/datascience/salary_prediction/data/train.csv\")\n",
    "\n",
    "test = pd.read_csv(\"/Users/carriesmith/Dropbox/GA/datascience/salary_prediction/data/test.csv\")\n",
    "\n",
    "data = pd.concat([data_train, test])\n",
    "\n",
    "print data_train.shape\n",
    "print data.shape"
   ]
  },
  {
   "cell_type": "markdown",
   "metadata": {},
   "source": [
    "### Data Prep"
   ]
  },
  {
   "cell_type": "code",
   "execution_count": 4,
   "metadata": {
    "collapsed": true
   },
   "outputs": [],
   "source": [
    "data.columns = map(str.lower, data.columns)\n",
    "data['title'] = data['title'].str.lower()"
   ]
  },
  {
   "cell_type": "markdown",
   "metadata": {},
   "source": [
    "#### FIll missing"
   ]
  },
  {
   "cell_type": "code",
   "execution_count": 5,
   "metadata": {
    "collapsed": true
   },
   "outputs": [],
   "source": [
    "cols = data.columns\n",
    "data[cols[cols != 'salarynormalized']] = data[cols[cols != 'salarynormalized']].fillna(\"missing\")"
   ]
  },
  {
   "cell_type": "markdown",
   "metadata": {},
   "source": [
    "#### Reducing number of categories"
   ]
  },
  {
   "cell_type": "code",
   "execution_count": 6,
   "metadata": {
    "collapsed": false
   },
   "outputs": [
    {
     "name": "stdout",
     "output_type": "stream",
     "text": [
      "(10000, 12)\n",
      "(10000, 12)\n",
      "(15000, 12)\n"
     ]
    }
   ],
   "source": [
    "print data_train.shape\n",
    "print data.iloc[range(0,10000),:].shape\n",
    "print data.shape"
   ]
  },
  {
   "cell_type": "code",
   "execution_count": 7,
   "metadata": {
    "collapsed": false,
    "scrolled": true
   },
   "outputs": [
    {
     "name": "stderr",
     "output_type": "stream",
     "text": [
      "/Users/carriesmith/anaconda/lib/python2.7/site-packages/IPython/kernel/__main__.py:4: SettingWithCopyWarning: \n",
      "A value is trying to be set on a copy of a slice from a DataFrame.\n",
      "Try using .loc[row_indexer,col_indexer] = value instead\n",
      "\n",
      "See the the caveats in the documentation: http://pandas.pydata.org/pandas-docs/stable/indexing.html#indexing-view-versus-copy\n"
     ]
    }
   ],
   "source": [
    "def reduceCats(data, test_data, feature, top_n, verbose = False):\n",
    "    val_counts = data[feature].value_counts(dropna = False)\n",
    "    common_cats = val_counts.head(n = top_n).index.values\n",
    "    data[feature + '_r'] = np.where( data[feature].isin(common_cats), data[feature], 'other')\n",
    "    test_data[feature + '_r'] = np.where( test_data[feature].isin(common_cats), test_data[feature], 'other')\n",
    "    if (verbose):\n",
    "        print data[feature + '_r'].value_counts(dropna = False)\n",
    "    return data, test_data\n",
    "\n",
    "data_train, data = reduceCats(data.iloc[range(0,10000),:], data, 'locationnormalized', 80, verbose=False)\n",
    "data_train, data = reduceCats(data.iloc[range(0,10000),:], data, 'company', 60, verbose=False)\n",
    "data_train, data = reduceCats(data.iloc[range(0,10000),:], data, 'sourcename', 20, verbose=False)"
   ]
  },
  {
   "cell_type": "code",
   "execution_count": 8,
   "metadata": {
    "collapsed": false,
    "scrolled": false
   },
   "outputs": [
    {
     "name": "stdout",
     "output_type": "stream",
     "text": [
      "(10000, 15)\n",
      "(15000, 15)\n"
     ]
    }
   ],
   "source": [
    "print data_train.shape\n",
    "print data.shape"
   ]
  },
  {
   "cell_type": "code",
   "execution_count": 9,
   "metadata": {
    "collapsed": false,
    "scrolled": true
   },
   "outputs": [
    {
     "name": "stdout",
     "output_type": "stream",
     "text": [
      "Index([u'category', u'company', u'contracttime', u'contracttype',\n",
      "       u'fulldescription', u'id', u'locationnormalized', u'locationraw',\n",
      "       u'salarynormalized', u'salaryraw', u'sourcename', u'title',\n",
      "       u'locationnormalized_r', u'company_r', u'sourcename_r'],\n",
      "      dtype='object')\n",
      "Index([u'category', u'company', u'contracttime', u'contracttype',\n",
      "       u'fulldescription', u'id', u'locationnormalized', u'locationraw',\n",
      "       u'salarynormalized', u'salaryraw', u'sourcename', u'title',\n",
      "       u'locationnormalized_r', u'company_r', u'sourcename_r'],\n",
      "      dtype='object')\n"
     ]
    }
   ],
   "source": [
    "print data_train.columns\n",
    "print data.columns"
   ]
  },
  {
   "cell_type": "markdown",
   "metadata": {},
   "source": [
    "#### Managers"
   ]
  },
  {
   "cell_type": "code",
   "execution_count": 10,
   "metadata": {
    "collapsed": false
   },
   "outputs": [],
   "source": [
    "data['manager_r'] = np.where( data['title'].str.contains(\"manager\"), 1, 0)"
   ]
  },
  {
   "cell_type": "markdown",
   "metadata": {},
   "source": [
    "## Fit Model"
   ]
  },
  {
   "cell_type": "markdown",
   "metadata": {},
   "source": [
    "### 2-way interactions"
   ]
  },
  {
   "cell_type": "code",
   "execution_count": 11,
   "metadata": {
    "collapsed": false
   },
   "outputs": [],
   "source": [
    "formula = 'salarynormalized ~ ( sourcename_r + locationnormalized_r + manager_r + category + contracttime + company_r) ** 2'\n",
    "\n",
    "# Note: because salaries (y) are unknown for the test dataset dmatrices drops these\n",
    "# need to add f\n",
    "y, X = dmatrices(formula, data=data.fillna(\"unknown\"), return_type='dataframe')"
   ]
  },
  {
   "cell_type": "code",
   "execution_count": 12,
   "metadata": {
    "collapsed": false,
    "scrolled": true
   },
   "outputs": [
    {
     "name": "stdout",
     "output_type": "stream",
     "text": [
      "(15000, 12838)\n",
      "(15000, 1024)\n"
     ]
    }
   ],
   "source": [
    "print X.shape\n",
    "print y.shape"
   ]
  },
  {
   "cell_type": "markdown",
   "metadata": {},
   "source": [
    "I don't know why it's turning y into 1024 columns. Reading salarynormalized as a factor...shit because of the missing values? Which probably means all of my models have been wrong all along. Replace with data.salarynormalized."
   ]
  },
  {
   "cell_type": "code",
   "execution_count": 13,
   "metadata": {
    "collapsed": true
   },
   "outputs": [],
   "source": [
    "y = data.salarynormalized"
   ]
  },
  {
   "cell_type": "code",
   "execution_count": 14,
   "metadata": {
    "collapsed": false
   },
   "outputs": [
    {
     "name": "stdout",
     "output_type": "stream",
     "text": [
      "(15000, 12838)\n",
      "(15000,)\n"
     ]
    }
   ],
   "source": [
    "print X.shape\n",
    "print y.shape"
   ]
  },
  {
   "cell_type": "code",
   "execution_count": 15,
   "metadata": {
    "collapsed": false
   },
   "outputs": [],
   "source": [
    "X_train = X.iloc[range(0,10000),:]\n",
    "y_train = y.iloc[range(0,10000)]\n",
    "\n",
    "X_test = X.iloc[range(10000,15000),:]"
   ]
  },
  {
   "cell_type": "code",
   "execution_count": 16,
   "metadata": {
    "collapsed": false
   },
   "outputs": [
    {
     "name": "stdout",
     "output_type": "stream",
     "text": [
      "(10000, 12838)\n",
      "(10000,)\n",
      "(5000, 12838)\n"
     ]
    }
   ],
   "source": [
    "print X_train.shape\n",
    "print y_train.shape\n",
    "print X_test.shape"
   ]
  },
  {
   "cell_type": "markdown",
   "metadata": {},
   "source": [
    "### Count Vectorizer on Title"
   ]
  },
  {
   "cell_type": "code",
   "execution_count": 17,
   "metadata": {
    "collapsed": false
   },
   "outputs": [
    {
     "name": "stdout",
     "output_type": "stream",
     "text": [
      "[u'account', u'administrator', u'advisor', u'analyst', u'assistant', u'business', u'care', u'care assistant', u'care worker', u'chef', u'chef partie', u'commercial', u'consultant', u'customer', u'deputy', u'deputy manager', u'design', u'design engineer', u'developer', u'development', u'engineer', u'executive', u'general', u'health', u'home', u'home manager', u'hotel', u'job', u'jobs', u'lead', u'leader', u'live', u'london', u'maintenance', u'manager', u'mechanical', u'nurse', u'nursing', u'nursing home', u'officer', u'partie', u'practitioner', u'project', u'project manager', u'quality', u'recruitment', u'recruitment consultant', u'registered', u'registered nurse', u'required', u'rgn', u'rgn rmn', u'rmn', u'sales', u'sales executive', u'senior', u'service', u'services', u'social', u'social worker', u'software', u'staff', u'staff nurse', u'support', u'support worker', u'teacher', u'team', u'technical', u'technician', u'web', u'worker', u'worker job', u'workers']\n"
     ]
    }
   ],
   "source": [
    "countVec = CountVectorizer( stop_words = 'english' , ngram_range=(1,3), \n",
    "                     max_features=100, # number of features\n",
    "                     min_df=.01, # only use words that appear at least some times (integer = absolute count)\n",
    "                     max_df=.95)  # ignore words that appear too frequently\n",
    "\n",
    "X_train_title = countVec.fit_transform(data.iloc[range(0,10000),:].title).todense()\n",
    "print countVec.get_feature_names()"
   ]
  },
  {
   "cell_type": "code",
   "execution_count": 18,
   "metadata": {
    "collapsed": false,
    "scrolled": true
   },
   "outputs": [
    {
     "name": "stdout",
     "output_type": "stream",
     "text": [
      "(10000, 73)\n"
     ]
    }
   ],
   "source": [
    "print X_train_title.shape"
   ]
  },
  {
   "cell_type": "code",
   "execution_count": 19,
   "metadata": {
    "collapsed": false
   },
   "outputs": [],
   "source": [
    "X_test_title = countVec.transform(data.iloc[range(10000,15000),:].title).todense()"
   ]
  },
  {
   "cell_type": "code",
   "execution_count": 20,
   "metadata": {
    "collapsed": false
   },
   "outputs": [
    {
     "name": "stdout",
     "output_type": "stream",
     "text": [
      "(5000, 73)\n"
     ]
    }
   ],
   "source": [
    "print X_test_title.shape"
   ]
  },
  {
   "cell_type": "markdown",
   "metadata": {},
   "source": [
    "### Combining"
   ]
  },
  {
   "cell_type": "code",
   "execution_count": 21,
   "metadata": {
    "collapsed": false
   },
   "outputs": [],
   "source": [
    "X_train_all = np.hstack([X_train_title, X_train])"
   ]
  },
  {
   "cell_type": "code",
   "execution_count": 22,
   "metadata": {
    "collapsed": false
   },
   "outputs": [
    {
     "name": "stdout",
     "output_type": "stream",
     "text": [
      "(10000, 12911)\n"
     ]
    }
   ],
   "source": [
    "print X_train_all.shape"
   ]
  },
  {
   "cell_type": "code",
   "execution_count": 23,
   "metadata": {
    "collapsed": false
   },
   "outputs": [],
   "source": [
    "X_test_all = np.hstack([X_test_title, X_test]) "
   ]
  },
  {
   "cell_type": "code",
   "execution_count": 24,
   "metadata": {
    "collapsed": false
   },
   "outputs": [
    {
     "name": "stdout",
     "output_type": "stream",
     "text": [
      "(5000, 12911)\n"
     ]
    }
   ],
   "source": [
    "print X_test_all.shape"
   ]
  },
  {
   "cell_type": "markdown",
   "metadata": {},
   "source": [
    "### Model Fit"
   ]
  },
  {
   "cell_type": "code",
   "execution_count": 25,
   "metadata": {
    "collapsed": false
   },
   "outputs": [
    {
     "name": "stdout",
     "output_type": "stream",
     "text": [
      "CPU times: user 2min 23s, sys: 2.32 s, total: 2min 25s\n",
      "Wall time: 43.9 s\n"
     ]
    }
   ],
   "source": [
    "%%time\n",
    "\n",
    "model = Ridge(alpha = 10)\n",
    "model.fit(X_train_all, y_train)"
   ]
  },
  {
   "cell_type": "code",
   "execution_count": null,
   "metadata": {
    "collapsed": true
   },
   "outputs": [],
   "source": [
    "f = plt.hist(model.predict(X_train_all), bins=30)"
   ]
  },
  {
   "cell_type": "code",
   "execution_count": 26,
   "metadata": {
    "collapsed": false
   },
   "outputs": [
    {
     "name": "stdout",
     "output_type": "stream",
     "text": [
      "[-6402.4052622  -6779.11936339 -8055.16345211 -8566.72892431 -7323.33232426\n",
      " -7639.42893778 -9042.93517057 -8967.20156448 -9127.19148168 -9737.34636242]\n",
      "Training Mean Absolute Error:  -8164.08528432\n",
      "[ 0.3893705   0.46406434  0.5188849   0.3903189   0.31827676  0.35075328\n",
      "  0.42175824  0.47854554  0.43705987  0.38986816]\n",
      "Training R^2:  0.415890049015\n",
      "CPU times: user 37min 4s, sys: 30 s, total: 37min 34s\n",
      "Wall time: 11min 6s\n"
     ]
    }
   ],
   "source": [
    "%%time\n",
    "MSE = cross_val_score(Ridge(alpha=10), X_train_all, y_train, cv=10, scoring='mean_absolute_error')\n",
    "print MSE\n",
    "print 'Training Mean Absolute Error: ', MSE.mean()"
   ]
  },
  {
   "cell_type": "code",
   "execution_count": null,
   "metadata": {
    "collapsed": true
   },
   "outputs": [],
   "source": [
    "%%time\n",
    "R2 = cross_val_score(Ridge(alpha=10), X_train_all, y_train, cv=10, scoring='r2')\n",
    "print R2\n",
    "print 'Training R^2: ', R2.mean()"
   ]
  },
  {
   "cell_type": "code",
   "execution_count": 27,
   "metadata": {
    "collapsed": false
   },
   "outputs": [
    {
     "data": {
      "image/png": "[encoded data removed]",
      "text/plain": [
       "<matplotlib.figure.Figure at 0x10a33af90>"
      ]
     },
     "metadata": {},
     "output_type": "display_data"
    }
   ],
   "source": [
    "y_predictions = model.predict(X_test_all)\n",
    "f = plt.hist(y_predictions, bins=30)"
   ]
  },
  {
   "cell_type": "markdown",
   "metadata": {},
   "source": [
    "#### Save Predictions to Disk"
   ]
  },
  {
   "cell_type": "code",
   "execution_count": 28,
   "metadata": {
    "collapsed": false,
    "scrolled": true
   },
   "outputs": [],
   "source": [
    "preds = pd.DataFrame(y_predictions, index=test.Id, columns=['Salary'])"
   ]
  },
  {
   "cell_type": "code",
   "execution_count": 29,
   "metadata": {
    "collapsed": true
   },
   "outputs": [],
   "source": [
    "preds.to_csv('/Users/carriesmith/Dropbox/GA/datascience/salary_prediction/data/Carrie_Smith_predictions.csv')"
   ]
  },
  {
   "cell_type": "code",
   "execution_count": null,
   "metadata": {
    "collapsed": true
   },
   "outputs": [],
   "source": []
  }
 ],
 "metadata": {
  "kernelspec": {
   "display_name": "Python 2",
   "language": "python",
   "name": "python2"
  },
  "language_info": {
   "codemirror_mode": {
    "name": "ipython",
    "version": 2
   },
   "file_extension": ".py",
   "mimetype": "text/x-python",
   "name": "python",
   "nbconvert_exporter": "python",
   "pygments_lexer": "ipython2",
   "version": "2.7.10"
  }
 },
 "nbformat": 4,
 "nbformat_minor": 0
}
