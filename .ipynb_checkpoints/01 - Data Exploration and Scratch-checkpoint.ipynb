{
 "cells": [
  {
   "cell_type": "markdown",
   "metadata": {},
   "source": [
    "## Libraries"
   ]
  },
  {
   "cell_type": "code",
   "execution_count": 3,
   "metadata": {
    "collapsed": true
   },
   "outputs": [],
   "source": [
    "# Pandas --> Data Frames\n",
    "import pandas as pd"
   ]
  },
  {
   "cell_type": "markdown",
   "metadata": {},
   "source": [
    "## Import Data"
   ]
  },
  {
   "cell_type": "code",
   "execution_count": 5,
   "metadata": {
    "collapsed": false,
    "scrolled": true
   },
   "outputs": [],
   "source": [
    "data = pd.read_csv(\"/Users/carriesmith/Dropbox/GA/datascience/salary_prediction/data/train.csv\")"
   ]
  },
  {
   "cell_type": "code",
   "execution_count": 7,
   "metadata": {
    "collapsed": false
   },
   "outputs": [
    {
     "data": {
      "text/html": [
       "<div>\n",
       "<table border=\"1\" class=\"dataframe\">\n",
       "  <thead>\n",
       "    <tr style=\"text-align: right;\">\n",
       "      <th></th>\n",
       "      <th>Id</th>\n",
       "      <th>Title</th>\n",
       "      <th>FullDescription</th>\n",
       "      <th>LocationRaw</th>\n",
       "      <th>LocationNormalized</th>\n",
       "      <th>ContractType</th>\n",
       "      <th>ContractTime</th>\n",
       "      <th>Company</th>\n",
       "      <th>Category</th>\n",
       "      <th>SalaryRaw</th>\n",
       "      <th>SalaryNormalized</th>\n",
       "      <th>SourceName</th>\n",
       "    </tr>\n",
       "  </thead>\n",
       "  <tbody>\n",
       "    <tr>\n",
       "      <th>0</th>\n",
       "      <td>12612628</td>\n",
       "      <td>Engineering Systems Analyst</td>\n",
       "      <td>Engineering Systems Analyst Dorking Surrey Sal...</td>\n",
       "      <td>Dorking, Surrey, Surrey</td>\n",
       "      <td>Dorking</td>\n",
       "      <td>NaN</td>\n",
       "      <td>permanent</td>\n",
       "      <td>Gregory Martin International</td>\n",
       "      <td>Engineering Jobs</td>\n",
       "      <td>20000 - 30000/annum 20-30K</td>\n",
       "      <td>25000</td>\n",
       "      <td>cv-library.co.uk</td>\n",
       "    </tr>\n",
       "    <tr>\n",
       "      <th>1</th>\n",
       "      <td>12612830</td>\n",
       "      <td>Stress Engineer Glasgow</td>\n",
       "      <td>Stress Engineer Glasgow Salary **** to **** We...</td>\n",
       "      <td>Glasgow, Scotland, Scotland</td>\n",
       "      <td>Glasgow</td>\n",
       "      <td>NaN</td>\n",
       "      <td>permanent</td>\n",
       "      <td>Gregory Martin International</td>\n",
       "      <td>Engineering Jobs</td>\n",
       "      <td>25000 - 35000/annum 25-35K</td>\n",
       "      <td>30000</td>\n",
       "      <td>cv-library.co.uk</td>\n",
       "    </tr>\n",
       "  </tbody>\n",
       "</table>\n",
       "</div>"
      ],
      "text/plain": [
       "         Id                        Title  \\\n",
       "0  12612628  Engineering Systems Analyst   \n",
       "1  12612830      Stress Engineer Glasgow   \n",
       "\n",
       "                                     FullDescription  \\\n",
       "0  Engineering Systems Analyst Dorking Surrey Sal...   \n",
       "1  Stress Engineer Glasgow Salary **** to **** We...   \n",
       "\n",
       "                   LocationRaw LocationNormalized ContractType ContractTime  \\\n",
       "0      Dorking, Surrey, Surrey            Dorking          NaN    permanent   \n",
       "1  Glasgow, Scotland, Scotland            Glasgow          NaN    permanent   \n",
       "\n",
       "                        Company          Category                   SalaryRaw  \\\n",
       "0  Gregory Martin International  Engineering Jobs  20000 - 30000/annum 20-30K   \n",
       "1  Gregory Martin International  Engineering Jobs  25000 - 35000/annum 25-35K   \n",
       "\n",
       "   SalaryNormalized        SourceName  \n",
       "0             25000  cv-library.co.uk  \n",
       "1             30000  cv-library.co.uk  "
      ]
     },
     "execution_count": 7,
     "metadata": {},
     "output_type": "execute_result"
    }
   ],
   "source": [
    "data.head(n=2)"
   ]
  },
  {
   "cell_type": "code",
   "execution_count": 8,
   "metadata": {
    "collapsed": false
   },
   "outputs": [
    {
     "name": "stdout",
     "output_type": "stream",
     "text": [
      "10000 rows\n"
     ]
    }
   ],
   "source": [
    "print len(data), 'rows'"
   ]
  },
  {
   "cell_type": "code",
   "execution_count": 9,
   "metadata": {
    "collapsed": false
   },
   "outputs": [
    {
     "name": "stdout",
     "output_type": "stream",
     "text": [
      "['Id' 'Title' 'FullDescription' 'LocationRaw' 'LocationNormalized'\n",
      " 'ContractType' 'ContractTime' 'Company' 'Category' 'SalaryRaw'\n",
      " 'SalaryNormalized' 'SourceName']\n"
     ]
    }
   ],
   "source": [
    "print data.columns.values"
   ]
  },
  {
   "cell_type": "code",
   "execution_count": 16,
   "metadata": {
    "collapsed": false
   },
   "outputs": [
    {
     "name": "stdout",
     "output_type": "stream",
     "text": [
      "Title\n",
      "Staff Nurse                     78\n",
      "Home Manager                    61\n",
      "Dental Nurse                    39\n",
      "Deputy Manager                  32\n",
      "Project Manager                 24\n",
      "RGN Nurse                       23\n",
      "Business Development Manager    19\n",
      "Registered Nurse                18\n",
      "Nursing Home Manager            17\n",
      "Mechanical Design Engineer      16\n",
      "dtype: int64\n",
      "LocationRaw\n",
      "London            637\n",
      "UK                335\n",
      "Belfast           225\n",
      "Leeds             166\n",
      "Manchester        145\n",
      "City of London     98\n",
      "Surrey             95\n",
      "Hampshire          81\n",
      "Sheffield          77\n",
      "West Midlands      74\n",
      "dtype: int64\n",
      "LocationNormalized\n",
      "UK            1337\n",
      "London         893\n",
      "Manchester     281\n",
      "Leeds          238\n",
      "Belfast        227\n",
      "Birmingham     140\n",
      "The City       135\n",
      "Surrey         129\n",
      "Sheffield      115\n",
      "Hampshire      103\n",
      "dtype: int64\n",
      "ContractTime\n",
      "NaN          5263\n",
      "permanent    4132\n",
      "contract      605\n",
      "dtype: int64\n",
      "Company\n",
      "NaN                    4049\n",
      "JOBG8                   449\n",
      "Fresh Partnership       262\n",
      "ARRAY                   218\n",
      "Clear Selection         127\n",
      "Chef Results            125\n",
      "Triumph Consultants      99\n",
      "JHR                      75\n",
      "Castle Recruitment       74\n",
      "The Works Uk Ltd         69\n",
      "dtype: int64\n",
      "Category\n",
      "Healthcare & Nursing Jobs      3149\n",
      "IT Jobs                        1414\n",
      "Engineering Jobs               1152\n",
      "Accounting & Finance Jobs       606\n",
      "HR & Recruitment Jobs           578\n",
      "Hospitality & Catering Jobs     525\n",
      "Sales Jobs                      426\n",
      "Teaching Jobs                   342\n",
      "Customer Services Jobs          257\n",
      "Other/General Jobs              236\n",
      "dtype: int64\n",
      "SalaryRaw\n",
      "32 to 55 per hour            51\n",
      "40000 to 45000 per year      49\n",
      "10,000 - 20,000              43\n",
      "35000 to 40000 per year      39\n",
      "15,000 to 22,000 per year    31\n",
      "12 to 12 per hour            29\n",
      "25000                        27\n",
      "24000 to 26000 per year      26\n",
      "30000                        26\n",
      "15,000 - 25,000              26\n",
      "dtype: int64\n",
      "SourceName\n",
      "careworx.co.uk           2946\n",
      "MyUkJobs                 1559\n",
      "cv-library.co.uk          874\n",
      "theitjobboard.co.uk       643\n",
      "fish4.co.uk               441\n",
      "planetrecruit.com         436\n",
      "totaljobs.com             403\n",
      "thecareerengineer.com     312\n",
      "hays.co.uk                293\n",
      "caterer.com               264\n",
      "dtype: int64\n"
     ]
    }
   ],
   "source": [
    "cols = data.columns\n",
    "\n",
    "for c in cols:\n",
    "    if type(data[c][0]) == str and c != \"FullDescription\":\n",
    "        print c\n",
    "        print data[c].value_counts(dropna = False).head(n=10)"
   ]
  },
  {
   "cell_type": "code",
   "execution_count": null,
   "metadata": {
    "collapsed": true
   },
   "outputs": [],
   "source": []
  }
 ],
 "metadata": {
  "kernelspec": {
   "display_name": "Python 2",
   "language": "python",
   "name": "python2"
  },
  "language_info": {
   "codemirror_mode": {
    "name": "ipython",
    "version": 2
   },
   "file_extension": ".py",
   "mimetype": "text/x-python",
   "name": "python",
   "nbconvert_exporter": "python",
   "pygments_lexer": "ipython2",
   "version": "2.7.10"
  }
 },
 "nbformat": 4,
 "nbformat_minor": 0
}
