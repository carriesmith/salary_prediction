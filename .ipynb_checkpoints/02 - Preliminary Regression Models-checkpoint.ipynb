{
 "cells": [
  {
   "cell_type": "markdown",
   "metadata": {},
   "source": [
    "## Libraries"
   ]
  },
  {
   "cell_type": "code",
   "execution_count": 1,
   "metadata": {
    "collapsed": false
   },
   "outputs": [],
   "source": [
    "# Pandas --> Data Frames\n",
    "import pandas as pd\n",
    "\n",
    "# numpy --> scientific computing with Python\n",
    "import numpy as np\n",
    "np.set_printoptions(threshold=np.nan)\n",
    "\n",
    "# matplotlib --> graphing library\n",
    "from matplotlib import pyplot as plt\n",
    "%matplotlib inline\n",
    "\n",
    "# Seaborn --> makes matplotlib prettier\n",
    "import seaborn as sb\n",
    "\n",
    "# sklearn for linear regression and cross-validation\n",
    "from sklearn.linear_model import LinearRegression, Ridge, Lasso\n",
    "from sklearn.cross_validation import train_test_split\n",
    "\n",
    "# statsmodels for linear regression\n",
    "import statsmodels.api as sm\n",
    "\n",
    "# statsmodels formula api\n",
    "import statsmodels.formula.api as smf\n",
    "\n",
    "# patsy dmatrices to create model matrix\n",
    "from patsy import dmatrices\n",
    "from patsy import ModelDesc, EvalEnvironment\n",
    "\n",
    "# needed for cleaning nan's from dictionaries\n",
    "from math import isnan\n",
    "\n",
    "# Cross-validating models\n",
    "from sklearn.cross_validation import cross_val_score, KFold\n",
    "\n",
    "# Text Processing\n",
    "from sklearn.feature_extraction.text import CountVectorizer\n",
    "from  sklearn.feature_extraction import DictVectorizer"
   ]
  },
  {
   "cell_type": "markdown",
   "metadata": {},
   "source": [
    "\n",
    "## Import Data"
   ]
  },
  {
   "cell_type": "code",
   "execution_count": 2,
   "metadata": {
    "collapsed": true
   },
   "outputs": [],
   "source": [
    "data_original = pd.read_csv(\"/Users/carriesmith/Dropbox/GA/datascience/salary_prediction/data/train.csv\")\n",
    "data = data_original"
   ]
  },
  {
   "cell_type": "markdown",
   "metadata": {},
   "source": [
    "## Data Prep"
   ]
  },
  {
   "cell_type": "markdown",
   "metadata": {},
   "source": [
    "### Lower Case"
   ]
  },
  {
   "cell_type": "code",
   "execution_count": 4,
   "metadata": {
    "collapsed": true
   },
   "outputs": [],
   "source": [
    "data.columns = map(str.lower, data.columns)\n",
    "data['title'] = data['title'].str.lower()"
   ]
  },
  {
   "cell_type": "markdown",
   "metadata": {},
   "source": [
    "### NaN to \"Missing\""
   ]
  },
  {
   "cell_type": "code",
   "execution_count": 5,
   "metadata": {
    "collapsed": false
   },
   "outputs": [],
   "source": [
    "# required\n",
    "cols = data.columns\n",
    "data[cols[cols != 'salarynormalized']] = data[cols[cols != 'salarynormalized']].fillna(\"missing\")"
   ]
  },
  {
   "cell_type": "markdown",
   "metadata": {},
   "source": [
    "### Reducing Number of Categories"
   ]
  },
  {
   "cell_type": "code",
   "execution_count": 6,
   "metadata": {
    "collapsed": true
   },
   "outputs": [],
   "source": [
    "# required\n",
    "def reduceCats(data, test_data, feature, top_n, verbose = False):\n",
    "    val_counts = data[feature].value_counts(dropna = False)\n",
    "    common_cats = val_counts.head(n = top_n).index.values\n",
    "    data[feature + '_r'] = np.where( data[feature].isin(common_cats), data[feature], 'other')\n",
    "    test_data[feature + '_r'] = np.where( test_data[feature].isin(common_cats), test_data[feature], 'other')\n",
    "    if (verbose):\n",
    "        print data[feature + '_r'].value_counts(dropna = False)\n",
    "    return data, test_data"
   ]
  },
  {
   "cell_type": "markdown",
   "metadata": {},
   "source": [
    "#### Managers"
   ]
  },
  {
   "cell_type": "code",
   "execution_count": 7,
   "metadata": {
    "collapsed": false
   },
   "outputs": [
    {
     "data": {
      "text/html": [
       "<div>\n",
       "<table border=\"1\" class=\"dataframe\">\n",
       "  <thead>\n",
       "    <tr style=\"text-align: right;\">\n",
       "      <th></th>\n",
       "      <th>id</th>\n",
       "      <th>title</th>\n",
       "      <th>fulldescription</th>\n",
       "      <th>locationraw</th>\n",
       "      <th>locationnormalized</th>\n",
       "      <th>contracttype</th>\n",
       "      <th>contracttime</th>\n",
       "      <th>company</th>\n",
       "      <th>category</th>\n",
       "      <th>salaryraw</th>\n",
       "      <th>salarynormalized</th>\n",
       "      <th>sourcename</th>\n",
       "      <th>manager_r</th>\n",
       "    </tr>\n",
       "  </thead>\n",
       "  <tbody>\n",
       "    <tr>\n",
       "      <th>29</th>\n",
       "      <td>25556432</td>\n",
       "      <td>general manager  funky, cool restaurant concep...</td>\n",
       "      <td>Senior General Manager – Funky, Cool, Casual R...</td>\n",
       "      <td>West London London South East</td>\n",
       "      <td>East Sheen</td>\n",
       "      <td>missing</td>\n",
       "      <td>missing</td>\n",
       "      <td>Bee Recruitment London Ltd</td>\n",
       "      <td>Hospitality &amp; Catering Jobs</td>\n",
       "      <td>From 28,000 to 35,000 per annum</td>\n",
       "      <td>31500</td>\n",
       "      <td>caterer.com</td>\n",
       "      <td>1</td>\n",
       "    </tr>\n",
       "    <tr>\n",
       "      <th>30</th>\n",
       "      <td>25892031</td>\n",
       "      <td>mice sales and marketing manager</td>\n",
       "      <td>Our client, a national hotel chain is seeking ...</td>\n",
       "      <td>Buckinghamshire South East</td>\n",
       "      <td>Buckinghamshire</td>\n",
       "      <td>missing</td>\n",
       "      <td>missing</td>\n",
       "      <td>Chess Partnership</td>\n",
       "      <td>Hospitality &amp; Catering Jobs</td>\n",
       "      <td>30,000 per annum plus bonus and package</td>\n",
       "      <td>30000</td>\n",
       "      <td>caterer.com</td>\n",
       "      <td>1</td>\n",
       "    </tr>\n",
       "    <tr>\n",
       "      <th>34</th>\n",
       "      <td>27527077</td>\n",
       "      <td>business development manager</td>\n",
       "      <td>The Company: Our client are a full service, cr...</td>\n",
       "      <td>Tyne Wear, North East</td>\n",
       "      <td>Newcastle Upon Tyne</td>\n",
       "      <td>missing</td>\n",
       "      <td>permanent</td>\n",
       "      <td>Asset Appointments</td>\n",
       "      <td>IT Jobs</td>\n",
       "      <td>18000 - 24000/annum plus commission OTE 50-60k</td>\n",
       "      <td>21000</td>\n",
       "      <td>cv-library.co.uk</td>\n",
       "      <td>1</td>\n",
       "    </tr>\n",
       "    <tr>\n",
       "      <th>48</th>\n",
       "      <td>29571506</td>\n",
       "      <td>deputy manager  nevill crest and gun, eridge g...</td>\n",
       "      <td>We are looking for an experienced Deputy Manag...</td>\n",
       "      <td>Eridge Green, East Sussex</td>\n",
       "      <td>UK</td>\n",
       "      <td>missing</td>\n",
       "      <td>permanent</td>\n",
       "      <td>Brunning &amp; Price</td>\n",
       "      <td>Travel Jobs</td>\n",
       "      <td>Salary package around 24,000</td>\n",
       "      <td>24000</td>\n",
       "      <td>leisurejobs.com</td>\n",
       "      <td>1</td>\n",
       "    </tr>\n",
       "    <tr>\n",
       "      <th>63</th>\n",
       "      <td>31559397</td>\n",
       "      <td>field sales engineer / sales account manager  ...</td>\n",
       "      <td>Due to expansion there is now an opportunity f...</td>\n",
       "      <td>Burgess Hill, West Sussex</td>\n",
       "      <td>Burgess Hill</td>\n",
       "      <td>missing</td>\n",
       "      <td>permanent</td>\n",
       "      <td>MatchBox Recruiting Ltd</td>\n",
       "      <td>Sales Jobs</td>\n",
       "      <td>40000 - 45000/annum 40-45k + bonus, travel, phone</td>\n",
       "      <td>42500</td>\n",
       "      <td>cv-library.co.uk</td>\n",
       "      <td>1</td>\n",
       "    </tr>\n",
       "  </tbody>\n",
       "</table>\n",
       "</div>"
      ],
      "text/plain": [
       "          id                                              title  \\\n",
       "29  25556432  general manager  funky, cool restaurant concep...   \n",
       "30  25892031                   mice sales and marketing manager   \n",
       "34  27527077                       business development manager   \n",
       "48  29571506  deputy manager  nevill crest and gun, eridge g...   \n",
       "63  31559397  field sales engineer / sales account manager  ...   \n",
       "\n",
       "                                      fulldescription  \\\n",
       "29  Senior General Manager – Funky, Cool, Casual R...   \n",
       "30  Our client, a national hotel chain is seeking ...   \n",
       "34  The Company: Our client are a full service, cr...   \n",
       "48  We are looking for an experienced Deputy Manag...   \n",
       "63  Due to expansion there is now an opportunity f...   \n",
       "\n",
       "                      locationraw   locationnormalized contracttype  \\\n",
       "29  West London London South East           East Sheen      missing   \n",
       "30     Buckinghamshire South East      Buckinghamshire      missing   \n",
       "34          Tyne Wear, North East  Newcastle Upon Tyne      missing   \n",
       "48      Eridge Green, East Sussex                   UK      missing   \n",
       "63      Burgess Hill, West Sussex         Burgess Hill      missing   \n",
       "\n",
       "   contracttime                     company                     category  \\\n",
       "29      missing  Bee Recruitment London Ltd  Hospitality & Catering Jobs   \n",
       "30      missing           Chess Partnership  Hospitality & Catering Jobs   \n",
       "34    permanent          Asset Appointments                      IT Jobs   \n",
       "48    permanent            Brunning & Price                  Travel Jobs   \n",
       "63    permanent     MatchBox Recruiting Ltd                   Sales Jobs   \n",
       "\n",
       "                                            salaryraw  salarynormalized  \\\n",
       "29                    From 28,000 to 35,000 per annum             31500   \n",
       "30            30,000 per annum plus bonus and package             30000   \n",
       "34     18000 - 24000/annum plus commission OTE 50-60k             21000   \n",
       "48                       Salary package around 24,000             24000   \n",
       "63  40000 - 45000/annum 40-45k + bonus, travel, phone             42500   \n",
       "\n",
       "          sourcename  manager_r  \n",
       "29       caterer.com          1  \n",
       "30       caterer.com          1  \n",
       "34  cv-library.co.uk          1  \n",
       "48   leisurejobs.com          1  \n",
       "63  cv-library.co.uk          1  "
      ]
     },
     "execution_count": 7,
     "metadata": {},
     "output_type": "execute_result"
    }
   ],
   "source": [
    "# required\n",
    "data['manager_r'] = np.where( data['title'].str.contains(\"manager\"), 1, 0)\n",
    "data.loc[data['manager_r']==1,:].head()"
   ]
  },
  {
   "cell_type": "markdown",
   "metadata": {},
   "source": [
    "## Train Test Split"
   ]
  },
  {
   "cell_type": "code",
   "execution_count": 8,
   "metadata": {
    "collapsed": false
   },
   "outputs": [],
   "source": [
    "data, final_test = train_test_split(data, test_size = 0.2)"
   ]
  },
  {
   "cell_type": "markdown",
   "metadata": {},
   "source": [
    "## Exploring Reducing the Max # Categories"
   ]
  },
  {
   "cell_type": "markdown",
   "metadata": {},
   "source": [
    "We may gain a little extra predictive value in having more levels to categorical variables, but large sparce model matrices slow down model time significantly. As I intend to explore interactions between variables, cutting back the number of categories will keep this from getting cumbersome. There is a possibility that combinations (interactions) between dropped categories and other variables could be valuable, and doing this does risk losing visibility on those."
   ]
  },
  {
   "cell_type": "markdown",
   "metadata": {
    "collapsed": false
   },
   "source": [
    "fig,axes = plt.subplots(ncols = 4)\n",
    "no = 0\n",
    "for feature in ('title', 'locationnormalized','company', 'sourcename'):\n",
    "    print feature\n",
    "\n",
    "    score_levels = []\n",
    "    \n",
    "    for top_n in range(5,200,5):\n",
    "           \n",
    "        if len(data[feature].value_counts(dropna = False).index.values) < top_n:\n",
    "            break\n",
    "        \n",
    "        data, final_test = reduceCats(data, final_test, feature, top_n)\n",
    "\n",
    "        formula = 'salarynormalized ~ ' + feature + '_r'\n",
    "        y, X = dmatrices(formula, data = data, return_type = \"dataframe\")\n",
    "\n",
    "        keep_score = []\n",
    "        for _ in range(20):\n",
    "            X_train, X_test, y_train, y_test = train_test_split(X, y, train_size=.8)\n",
    "            model = LinearRegression(fit_intercept=False)\n",
    "            model.fit(X_train,y_train)\n",
    "            keep_score.append(model.score(X_test,y_test))\n",
    "\n",
    "        score_levels.append(np.mean(keep_score))\n",
    "    \n",
    "    f = pd.DataFrame(score_levels, index = range(5, 5*len(score_levels)+5, 5)).plot(ylim=(-.05,.40), ax=axes[no], legend=False, figsize = (16,4))\n",
    "    f = axes[no].set_title(feature)\n",
    "    f = axes[no].set_xlabel('degree'), axes[no].set_ylabel('$R^2$')\n",
    "    \n",
    "    no+=1"
   ]
  },
  {
   "cell_type": "raw",
   "metadata": {
    "collapsed": false
   },
   "source": [
    "## required\n",
    "data, final_test = reduceCats(data, final_test, 'title', 50, verbose=False)\n",
    "data, final_test = reduceCats(data, final_test, 'locationnormalized', 50, verbose=False)\n",
    "data, final_test = reduceCats(data, final_test, 'company', 50, verbose=False)\n",
    "data, final_test = reduceCats(data, final_test, 'sourcename', 20, verbose=False)"
   ]
  },
  {
   "cell_type": "markdown",
   "metadata": {},
   "source": [
    "## Build Models"
   ]
  },
  {
   "cell_type": "code",
   "execution_count": 9,
   "metadata": {
    "collapsed": false
   },
   "outputs": [],
   "source": [
    "def form_builder(keep):\n",
    "    formula = \"salarynormalized ~ \"\n",
    "    if (len(keep) == 1):\n",
    "        formula = formula + keep[0]\n",
    "    else:\n",
    "        formula = formula + keep[0]\n",
    "        for feature in keep[1:]:\n",
    "            formula = formula + ' + ' + feature\n",
    "    return formula"
   ]
  },
  {
   "cell_type": "markdown",
   "metadata": {},
   "source": [
    "### One Variable Forward Selection"
   ]
  },
  {
   "cell_type": "raw",
   "metadata": {
    "collapsed": false,
    "scrolled": false
   },
   "source": [
    "features =  ['title_r','contracttype', 'contracttime', 'category', 'manager_r', \\\n",
    "    'locationnormalized_r', 'company_r', 'sourcename_r']\n",
    "\n",
    "formula = \"\"\n",
    "keep = []\n",
    "r2_last = 0\n",
    "\n",
    "while(True):\n",
    "    keep_score = {}\n",
    "    for feature in features:\n",
    "        formula = form_builder(np.concatenate((keep, [feature])))\n",
    "        y, X = dmatrices(formula, data=data, return_type='dataframe')\n",
    "        feature_scores = []\n",
    "        for _ in range(10):\n",
    "            X_train, X_test, y_train, y_test = train_test_split(X, y, train_size=.8)\n",
    "            model = LinearRegression(fit_intercept=False)\n",
    "            model.fit(X_train,y_train)\n",
    "            feature_scores.append(model.score(X_test,y_test))\n",
    "        feature_scores = [x for x in feature_scores if x >= 0]\n",
    "        keep_score[feature] = np.mean(feature_scores)\n",
    "        print \"%s     R^2 = %.3f   R^2 Change = %.3f\" % (formula, np.mean(feature_scores), (np.mean(feature_scores) - r2_last))\n",
    "\n",
    "    print '-------------'\n",
    "\n",
    "    best_feature = max(keep_score.items(), key=lambda x: x[1])[0]\n",
    "    best_r2 = max(keep_score.items(), key=lambda x: x[1])[1]\n",
    "\n",
    "    print best_feature\n",
    "    print best_r2\n",
    "    \n",
    "    print '-------------'\n",
    "    \n",
    "    if ((best_r2 - r2_last) > .01):\n",
    "        features.remove( best_feature )\n",
    "        r2_last = best_r2\n",
    "        keep.append( best_feature )\n",
    "        print form_builder(keep) + '   R^2 = ', r2_last\n",
    "    else:\n",
    "        print '-------------'\n",
    "        print '-------------'\n",
    "        print form_builder(keep) + '   R^2 = ', r2_last\n",
    "        print '-------------'\n",
    "        print '-------------'\n",
    "        break\n",
    "\n",
    "    print '-------------'\n"
   ]
  },
  {
   "cell_type": "markdown",
   "metadata": {},
   "source": [
    "### Forward Selection with all 2-Way Interactions"
   ]
  },
  {
   "cell_type": "code",
   "execution_count": 10,
   "metadata": {
    "collapsed": false
   },
   "outputs": [
    {
     "data": {
      "text/plain": [
       "'salarynormalized ~ ( title_r + contracttype + contracttime + category + manager_r + locationnormalized_r + company_r + sourcename_r) ** 2'"
      ]
     },
     "execution_count": 10,
     "metadata": {},
     "output_type": "execute_result"
    }
   ],
   "source": [
    "ex_feats =  ['title_r','contracttype', 'contracttime', 'category', 'manager_r', \\\n",
    "    'locationnormalized_r', 'company_r', 'sourcename_r']\n",
    "\n",
    "def form_builder_all(features, degree):\n",
    "    formula = \"salarynormalized ~ ( \" + features[0]\n",
    "    \n",
    "    for feature in features[1:]:\n",
    "        formula = formula + \" + \" + feature\n",
    "        \n",
    "    formula = formula + \") ** \" + str(degree)\n",
    "    \n",
    "    return formula\n",
    "\n",
    "form_builder_all(ex_feats, 2)"
   ]
  },
  {
   "cell_type": "raw",
   "metadata": {
    "collapsed": false,
    "scrolled": true
   },
   "source": [
    "data, final_test = reduceCats(data, final_test, 'title', 40, verbose=False)\n",
    "data, final_test = reduceCats(data, final_test, 'locationnormalized', 60, verbose=False)\n",
    "data, final_test = reduceCats(data, final_test, 'company', 60, verbose=False)\n",
    "data, final_test = reduceCats(data, final_test, 'sourcename', 20, verbose=False)\n",
    "\n",
    "features =  ['contracttype', 'contracttime', 'category', 'manager_r', \\\n",
    "    'locationnormalized_r', 'company_r', 'sourcename_r']\n",
    "\n",
    "formula = \"\"\n",
    "keep = []\n",
    "r2_last = 0\n",
    "\n",
    "while(True):\n",
    "    keep_score = {}\n",
    "    for feature in features:\n",
    "        formula = form_builder_all(np.concatenate((keep, [feature])),2)\n",
    "        y, X = dmatrices(formula, data=data, return_type='dataframe')\n",
    "        feature_scores = []\n",
    "        for _ in range(10):\n",
    "            X_train, X_test, y_train, y_test = train_test_split(X, y, train_size=.8)\n",
    "            model = Ridge(alpha=10)\n",
    "            model.fit(X_train,y_train)\n",
    "            feature_scores.append(model.score(X_test,y_test))\n",
    "        feature_scores = [x for x in feature_scores if x >= 0]\n",
    "        keep_score[feature] = np.mean(feature_scores)\n",
    "        print \"%s     R^2 = %.3f   R^2 Change = %.3f\" % (formula, np.mean(feature_scores), (np.mean(feature_scores) - r2_last))\n",
    "\n",
    "    print '-------------'\n",
    "\n",
    "    keep_score = {k: keep_score[k] for k in keep_score if not isnan(keep_score[k])}\n",
    "    best_feature = max(keep_score.items(), key=lambda x: x[1])[0]\n",
    "    best_r2 = max(keep_score.items(), key=lambda x: x[1])[1]\n",
    "\n",
    "    print best_feature\n",
    "    print best_r2\n",
    "    \n",
    "    print '-------------'\n",
    "    \n",
    "    if ((best_r2 - r2_last) > .01):\n",
    "        features.remove( best_feature )\n",
    "        r2_last = best_r2\n",
    "        keep.append( best_feature )\n",
    "        print form_builder_all(keep, 2) + '   R^2 = ', r2_last\n",
    "    else:\n",
    "        print '-------------'\n",
    "        print '-------------'\n",
    "        print form_builder_all(keep, 2) + '   R^2 = ', r2_last\n",
    "        print '-------------'\n",
    "        print '-------------'\n",
    "        break\n",
    "\n",
    "    print '-------------'"
   ]
  },
  {
   "cell_type": "code",
   "execution_count": 11,
   "metadata": {
    "collapsed": false
   },
   "outputs": [
    {
     "name": "stdout",
     "output_type": "stream",
     "text": [
      "salarynormalized ~ ( sourcename_r + locationnormalized_r + manager_r + category + contracttime + company_r) ** 2\n"
     ]
    },
    {
     "ename": "NameError",
     "evalue": "name 'sourcename_r' is not defined",
     "output_type": "error",
     "traceback": [
      "\u001b[0;31m---------------------------------------------------------------------------\u001b[0m",
      "\u001b[0;31mNameError\u001b[0m                                 Traceback (most recent call last)",
      "\u001b[0;32m<ipython-input-11-39a460f88cd1>\u001b[0m in \u001b[0;36m<module>\u001b[0;34m()\u001b[0m\n\u001b[0;32m----> 1\u001b[0;31m \u001b[0mget_ipython\u001b[0m\u001b[0;34m(\u001b[0m\u001b[0;34m)\u001b[0m\u001b[0;34m.\u001b[0m\u001b[0mrun_cell_magic\u001b[0m\u001b[0;34m(\u001b[0m\u001b[0;34mu'time'\u001b[0m\u001b[0;34m,\u001b[0m \u001b[0;34mu''\u001b[0m\u001b[0;34m,\u001b[0m \u001b[0;34mu\"\\nformula = 'salarynormalized ~ ( sourcename_r + locationnormalized_r + manager_r + category + contracttime + company_r) ** 2'\\nprint formula\\n\\ny, X = dmatrices(formula, data=data, return_type='dataframe')\\n\\nprint 'Mean Absolute Error: ', cross_val_score(Ridge(alpha=10), X, y, cv=6, scoring='mean_absolute_error').mean()\\nprint 'R^2: ', cross_val_score(Ridge(alpha=10), X, y, cv=6, scoring='r2').mean()\"\u001b[0m\u001b[0;34m)\u001b[0m\u001b[0;34m\u001b[0m\u001b[0m\n\u001b[0m",
      "\u001b[0;32m/Users/carriesmith/anaconda/lib/python2.7/site-packages/IPython/core/interactiveshell.pyc\u001b[0m in \u001b[0;36mrun_cell_magic\u001b[0;34m(self, magic_name, line, cell)\u001b[0m\n\u001b[1;32m   2262\u001b[0m             \u001b[0mmagic_arg_s\u001b[0m \u001b[0;34m=\u001b[0m \u001b[0mself\u001b[0m\u001b[0;34m.\u001b[0m\u001b[0mvar_expand\u001b[0m\u001b[0;34m(\u001b[0m\u001b[0mline\u001b[0m\u001b[0;34m,\u001b[0m \u001b[0mstack_depth\u001b[0m\u001b[0;34m)\u001b[0m\u001b[0;34m\u001b[0m\u001b[0m\n\u001b[1;32m   2263\u001b[0m             \u001b[0;32mwith\u001b[0m \u001b[0mself\u001b[0m\u001b[0;34m.\u001b[0m\u001b[0mbuiltin_trap\u001b[0m\u001b[0;34m:\u001b[0m\u001b[0;34m\u001b[0m\u001b[0m\n\u001b[0;32m-> 2264\u001b[0;31m                 \u001b[0mresult\u001b[0m \u001b[0;34m=\u001b[0m \u001b[0mfn\u001b[0m\u001b[0;34m(\u001b[0m\u001b[0mmagic_arg_s\u001b[0m\u001b[0;34m,\u001b[0m \u001b[0mcell\u001b[0m\u001b[0;34m)\u001b[0m\u001b[0;34m\u001b[0m\u001b[0m\n\u001b[0m\u001b[1;32m   2265\u001b[0m             \u001b[0;32mreturn\u001b[0m \u001b[0mresult\u001b[0m\u001b[0;34m\u001b[0m\u001b[0m\n\u001b[1;32m   2266\u001b[0m \u001b[0;34m\u001b[0m\u001b[0m\n",
      "\u001b[0;32m/Users/carriesmith/anaconda/lib/python2.7/site-packages/IPython/core/magics/execution.pyc\u001b[0m in \u001b[0;36mtime\u001b[0;34m(self, line, cell, local_ns)\u001b[0m\n",
      "\u001b[0;32m/Users/carriesmith/anaconda/lib/python2.7/site-packages/IPython/core/magic.pyc\u001b[0m in \u001b[0;36m<lambda>\u001b[0;34m(f, *a, **k)\u001b[0m\n\u001b[1;32m    191\u001b[0m     \u001b[0;31m# but it's overkill for just that one bit of state.\u001b[0m\u001b[0;34m\u001b[0m\u001b[0;34m\u001b[0m\u001b[0m\n\u001b[1;32m    192\u001b[0m     \u001b[0;32mdef\u001b[0m \u001b[0mmagic_deco\u001b[0m\u001b[0;34m(\u001b[0m\u001b[0marg\u001b[0m\u001b[0;34m)\u001b[0m\u001b[0;34m:\u001b[0m\u001b[0;34m\u001b[0m\u001b[0m\n\u001b[0;32m--> 193\u001b[0;31m         \u001b[0mcall\u001b[0m \u001b[0;34m=\u001b[0m \u001b[0;32mlambda\u001b[0m \u001b[0mf\u001b[0m\u001b[0;34m,\u001b[0m \u001b[0;34m*\u001b[0m\u001b[0ma\u001b[0m\u001b[0;34m,\u001b[0m \u001b[0;34m**\u001b[0m\u001b[0mk\u001b[0m\u001b[0;34m:\u001b[0m \u001b[0mf\u001b[0m\u001b[0;34m(\u001b[0m\u001b[0;34m*\u001b[0m\u001b[0ma\u001b[0m\u001b[0;34m,\u001b[0m \u001b[0;34m**\u001b[0m\u001b[0mk\u001b[0m\u001b[0;34m)\u001b[0m\u001b[0;34m\u001b[0m\u001b[0m\n\u001b[0m\u001b[1;32m    194\u001b[0m \u001b[0;34m\u001b[0m\u001b[0m\n\u001b[1;32m    195\u001b[0m         \u001b[0;32mif\u001b[0m \u001b[0mcallable\u001b[0m\u001b[0;34m(\u001b[0m\u001b[0marg\u001b[0m\u001b[0;34m)\u001b[0m\u001b[0;34m:\u001b[0m\u001b[0;34m\u001b[0m\u001b[0m\n",
      "\u001b[0;32m/Users/carriesmith/anaconda/lib/python2.7/site-packages/IPython/core/magics/execution.pyc\u001b[0m in \u001b[0;36mtime\u001b[0;34m(self, line, cell, local_ns)\u001b[0m\n\u001b[1;32m   1164\u001b[0m         \u001b[0;32melse\u001b[0m\u001b[0;34m:\u001b[0m\u001b[0;34m\u001b[0m\u001b[0m\n\u001b[1;32m   1165\u001b[0m             \u001b[0mst\u001b[0m \u001b[0;34m=\u001b[0m \u001b[0mclock2\u001b[0m\u001b[0;34m(\u001b[0m\u001b[0;34m)\u001b[0m\u001b[0;34m\u001b[0m\u001b[0m\n\u001b[0;32m-> 1166\u001b[0;31m             \u001b[0;32mexec\u001b[0m\u001b[0;34m(\u001b[0m\u001b[0mcode\u001b[0m\u001b[0;34m,\u001b[0m \u001b[0mglob\u001b[0m\u001b[0;34m,\u001b[0m \u001b[0mlocal_ns\u001b[0m\u001b[0;34m)\u001b[0m\u001b[0;34m\u001b[0m\u001b[0m\n\u001b[0m\u001b[1;32m   1167\u001b[0m             \u001b[0mend\u001b[0m \u001b[0;34m=\u001b[0m \u001b[0mclock2\u001b[0m\u001b[0;34m(\u001b[0m\u001b[0;34m)\u001b[0m\u001b[0;34m\u001b[0m\u001b[0m\n\u001b[1;32m   1168\u001b[0m             \u001b[0mout\u001b[0m \u001b[0;34m=\u001b[0m \u001b[0mNone\u001b[0m\u001b[0;34m\u001b[0m\u001b[0m\n",
      "\u001b[0;32m<timed exec>\u001b[0m in \u001b[0;36m<module>\u001b[0;34m()\u001b[0m\n",
      "\u001b[0;32m/Users/carriesmith/anaconda/lib/python2.7/site-packages/patsy/highlevel.pyc\u001b[0m in \u001b[0;36mdmatrices\u001b[0;34m(formula_like, data, eval_env, NA_action, return_type)\u001b[0m\n\u001b[1;32m    295\u001b[0m     \u001b[0meval_env\u001b[0m \u001b[0;34m=\u001b[0m \u001b[0mEvalEnvironment\u001b[0m\u001b[0;34m.\u001b[0m\u001b[0mcapture\u001b[0m\u001b[0;34m(\u001b[0m\u001b[0meval_env\u001b[0m\u001b[0;34m,\u001b[0m \u001b[0mreference\u001b[0m\u001b[0;34m=\u001b[0m\u001b[0;36m1\u001b[0m\u001b[0;34m)\u001b[0m\u001b[0;34m\u001b[0m\u001b[0m\n\u001b[1;32m    296\u001b[0m     (lhs, rhs) = _do_highlevel_design(formula_like, data, eval_env,\n\u001b[0;32m--> 297\u001b[0;31m                                       NA_action, return_type)\n\u001b[0m\u001b[1;32m    298\u001b[0m     \u001b[0;32mif\u001b[0m \u001b[0mlhs\u001b[0m\u001b[0;34m.\u001b[0m\u001b[0mshape\u001b[0m\u001b[0;34m[\u001b[0m\u001b[0;36m1\u001b[0m\u001b[0;34m]\u001b[0m \u001b[0;34m==\u001b[0m \u001b[0;36m0\u001b[0m\u001b[0;34m:\u001b[0m\u001b[0;34m\u001b[0m\u001b[0m\n\u001b[1;32m    299\u001b[0m         \u001b[0;32mraise\u001b[0m \u001b[0mPatsyError\u001b[0m\u001b[0;34m(\u001b[0m\u001b[0;34m\"model is missing required outcome variables\"\u001b[0m\u001b[0;34m)\u001b[0m\u001b[0;34m\u001b[0m\u001b[0m\n",
      "\u001b[0;32m/Users/carriesmith/anaconda/lib/python2.7/site-packages/patsy/highlevel.pyc\u001b[0m in \u001b[0;36m_do_highlevel_design\u001b[0;34m(formula_like, data, eval_env, NA_action, return_type)\u001b[0m\n\u001b[1;32m    150\u001b[0m         \u001b[0;32mreturn\u001b[0m \u001b[0miter\u001b[0m\u001b[0;34m(\u001b[0m\u001b[0;34m[\u001b[0m\u001b[0mdata\u001b[0m\u001b[0;34m]\u001b[0m\u001b[0;34m)\u001b[0m\u001b[0;34m\u001b[0m\u001b[0m\n\u001b[1;32m    151\u001b[0m     builders = _try_incr_builders(formula_like, data_iter_maker, eval_env,\n\u001b[0;32m--> 152\u001b[0;31m                                   NA_action)\n\u001b[0m\u001b[1;32m    153\u001b[0m     \u001b[0;32mif\u001b[0m \u001b[0mbuilders\u001b[0m \u001b[0;32mis\u001b[0m \u001b[0;32mnot\u001b[0m \u001b[0mNone\u001b[0m\u001b[0;34m:\u001b[0m\u001b[0;34m\u001b[0m\u001b[0m\n\u001b[1;32m    154\u001b[0m         return build_design_matrices(builders, data,\n",
      "\u001b[0;32m/Users/carriesmith/anaconda/lib/python2.7/site-packages/patsy/highlevel.pyc\u001b[0m in \u001b[0;36m_try_incr_builders\u001b[0;34m(formula_like, data_iter_maker, eval_env, NA_action)\u001b[0m\n\u001b[1;32m     55\u001b[0m                                        formula_like.rhs_termlist],\n\u001b[1;32m     56\u001b[0m                                       \u001b[0mdata_iter_maker\u001b[0m\u001b[0;34m,\u001b[0m\u001b[0;34m\u001b[0m\u001b[0m\n\u001b[0;32m---> 57\u001b[0;31m                                       NA_action)\n\u001b[0m\u001b[1;32m     58\u001b[0m     \u001b[0;32melse\u001b[0m\u001b[0;34m:\u001b[0m\u001b[0;34m\u001b[0m\u001b[0m\n\u001b[1;32m     59\u001b[0m         \u001b[0;32mreturn\u001b[0m \u001b[0mNone\u001b[0m\u001b[0;34m\u001b[0m\u001b[0m\n",
      "\u001b[0;32m/Users/carriesmith/anaconda/lib/python2.7/site-packages/patsy/build.pyc\u001b[0m in \u001b[0;36mdesign_matrix_builders\u001b[0;34m(termlists, data_iter_maker, NA_action)\u001b[0m\n\u001b[1;32m    658\u001b[0m                                                    \u001b[0mfactor_states\u001b[0m\u001b[0;34m,\u001b[0m\u001b[0;34m\u001b[0m\u001b[0m\n\u001b[1;32m    659\u001b[0m                                                    \u001b[0mdata_iter_maker\u001b[0m\u001b[0;34m,\u001b[0m\u001b[0;34m\u001b[0m\u001b[0m\n\u001b[0;32m--> 660\u001b[0;31m                                                    NA_action)\n\u001b[0m\u001b[1;32m    661\u001b[0m     \u001b[0;31m# Now we need the factor evaluators, which encapsulate the knowledge of\u001b[0m\u001b[0;34m\u001b[0m\u001b[0;34m\u001b[0m\u001b[0m\n\u001b[1;32m    662\u001b[0m     \u001b[0;31m# how to turn any given factor into a chunk of data:\u001b[0m\u001b[0;34m\u001b[0m\u001b[0;34m\u001b[0m\u001b[0m\n",
      "\u001b[0;32m/Users/carriesmith/anaconda/lib/python2.7/site-packages/patsy/build.pyc\u001b[0m in \u001b[0;36m_examine_factor_types\u001b[0;34m(factors, factor_states, data_iter_maker, NA_action)\u001b[0m\n\u001b[1;32m    422\u001b[0m     \u001b[0;32mfor\u001b[0m \u001b[0mdata\u001b[0m \u001b[0;32min\u001b[0m \u001b[0mdata_iter_maker\u001b[0m\u001b[0;34m(\u001b[0m\u001b[0;34m)\u001b[0m\u001b[0;34m:\u001b[0m\u001b[0;34m\u001b[0m\u001b[0m\n\u001b[1;32m    423\u001b[0m         \u001b[0;32mfor\u001b[0m \u001b[0mfactor\u001b[0m \u001b[0;32min\u001b[0m \u001b[0mlist\u001b[0m\u001b[0;34m(\u001b[0m\u001b[0mexamine_needed\u001b[0m\u001b[0;34m)\u001b[0m\u001b[0;34m:\u001b[0m\u001b[0;34m\u001b[0m\u001b[0m\n\u001b[0;32m--> 424\u001b[0;31m             \u001b[0mvalue\u001b[0m \u001b[0;34m=\u001b[0m \u001b[0mfactor\u001b[0m\u001b[0;34m.\u001b[0m\u001b[0meval\u001b[0m\u001b[0;34m(\u001b[0m\u001b[0mfactor_states\u001b[0m\u001b[0;34m[\u001b[0m\u001b[0mfactor\u001b[0m\u001b[0;34m]\u001b[0m\u001b[0;34m,\u001b[0m \u001b[0mdata\u001b[0m\u001b[0;34m)\u001b[0m\u001b[0;34m\u001b[0m\u001b[0m\n\u001b[0m\u001b[1;32m    425\u001b[0m             \u001b[0;32mif\u001b[0m \u001b[0mfactor\u001b[0m \u001b[0;32min\u001b[0m \u001b[0mcat_sniffers\u001b[0m \u001b[0;32mor\u001b[0m \u001b[0mguess_categorical\u001b[0m\u001b[0;34m(\u001b[0m\u001b[0mvalue\u001b[0m\u001b[0;34m)\u001b[0m\u001b[0;34m:\u001b[0m\u001b[0;34m\u001b[0m\u001b[0m\n\u001b[1;32m    426\u001b[0m                 \u001b[0;32mif\u001b[0m \u001b[0mfactor\u001b[0m \u001b[0;32mnot\u001b[0m \u001b[0;32min\u001b[0m \u001b[0mcat_sniffers\u001b[0m\u001b[0;34m:\u001b[0m\u001b[0;34m\u001b[0m\u001b[0m\n",
      "\u001b[0;32m/Users/carriesmith/anaconda/lib/python2.7/site-packages/patsy/eval.pyc\u001b[0m in \u001b[0;36meval\u001b[0;34m(self, memorize_state, data)\u001b[0m\n\u001b[1;32m    483\u001b[0m     \u001b[0;31m#    http://nedbatchelder.com/blog/200711/rethrowing_exceptions_in_python.html\u001b[0m\u001b[0;34m\u001b[0m\u001b[0;34m\u001b[0m\u001b[0m\n\u001b[1;32m    484\u001b[0m     \u001b[0;32mdef\u001b[0m \u001b[0meval\u001b[0m\u001b[0;34m(\u001b[0m\u001b[0mself\u001b[0m\u001b[0;34m,\u001b[0m \u001b[0mmemorize_state\u001b[0m\u001b[0;34m,\u001b[0m \u001b[0mdata\u001b[0m\u001b[0;34m)\u001b[0m\u001b[0;34m:\u001b[0m\u001b[0;34m\u001b[0m\u001b[0m\n\u001b[0;32m--> 485\u001b[0;31m         \u001b[0;32mreturn\u001b[0m \u001b[0mself\u001b[0m\u001b[0;34m.\u001b[0m\u001b[0m_eval\u001b[0m\u001b[0;34m(\u001b[0m\u001b[0mmemorize_state\u001b[0m\u001b[0;34m[\u001b[0m\u001b[0;34m\"eval_code\"\u001b[0m\u001b[0;34m]\u001b[0m\u001b[0;34m,\u001b[0m \u001b[0mmemorize_state\u001b[0m\u001b[0;34m,\u001b[0m \u001b[0mdata\u001b[0m\u001b[0;34m)\u001b[0m\u001b[0;34m\u001b[0m\u001b[0m\n\u001b[0m\u001b[1;32m    486\u001b[0m \u001b[0;34m\u001b[0m\u001b[0m\n\u001b[1;32m    487\u001b[0m \u001b[0;32mdef\u001b[0m \u001b[0mtest_EvalFactor_basics\u001b[0m\u001b[0;34m(\u001b[0m\u001b[0;34m)\u001b[0m\u001b[0;34m:\u001b[0m\u001b[0;34m\u001b[0m\u001b[0m\n",
      "\u001b[0;32m/Users/carriesmith/anaconda/lib/python2.7/site-packages/patsy/eval.pyc\u001b[0m in \u001b[0;36m_eval\u001b[0;34m(self, code, memorize_state, data)\u001b[0m\n\u001b[1;32m    466\u001b[0m                                  \u001b[0mself\u001b[0m\u001b[0;34m,\u001b[0m\u001b[0;34m\u001b[0m\u001b[0m\n\u001b[1;32m    467\u001b[0m                                  \u001b[0mself\u001b[0m\u001b[0;34m.\u001b[0m\u001b[0m_eval_env\u001b[0m\u001b[0;34m.\u001b[0m\u001b[0meval\u001b[0m\u001b[0;34m,\u001b[0m\u001b[0;34m\u001b[0m\u001b[0m\n\u001b[0;32m--> 468\u001b[0;31m                                  code, inner_namespace=inner_namespace)\n\u001b[0m\u001b[1;32m    469\u001b[0m \u001b[0;34m\u001b[0m\u001b[0m\n\u001b[1;32m    470\u001b[0m     \u001b[0;32mdef\u001b[0m \u001b[0mmemorize_chunk\u001b[0m\u001b[0;34m(\u001b[0m\u001b[0mself\u001b[0m\u001b[0;34m,\u001b[0m \u001b[0mstate\u001b[0m\u001b[0;34m,\u001b[0m \u001b[0mwhich_pass\u001b[0m\u001b[0;34m,\u001b[0m \u001b[0mdata\u001b[0m\u001b[0;34m)\u001b[0m\u001b[0;34m:\u001b[0m\u001b[0;34m\u001b[0m\u001b[0m\n",
      "\u001b[0;32m/Users/carriesmith/anaconda/lib/python2.7/site-packages/patsy/compat.pyc\u001b[0m in \u001b[0;36mcall_and_wrap_exc\u001b[0;34m(msg, origin, f, *args, **kwargs)\u001b[0m\n\u001b[1;32m    115\u001b[0m \u001b[0;32mdef\u001b[0m \u001b[0mcall_and_wrap_exc\u001b[0m\u001b[0;34m(\u001b[0m\u001b[0mmsg\u001b[0m\u001b[0;34m,\u001b[0m \u001b[0morigin\u001b[0m\u001b[0;34m,\u001b[0m \u001b[0mf\u001b[0m\u001b[0;34m,\u001b[0m \u001b[0;34m*\u001b[0m\u001b[0margs\u001b[0m\u001b[0;34m,\u001b[0m \u001b[0;34m**\u001b[0m\u001b[0mkwargs\u001b[0m\u001b[0;34m)\u001b[0m\u001b[0;34m:\u001b[0m\u001b[0;34m\u001b[0m\u001b[0m\n\u001b[1;32m    116\u001b[0m     \u001b[0;32mtry\u001b[0m\u001b[0;34m:\u001b[0m\u001b[0;34m\u001b[0m\u001b[0m\n\u001b[0;32m--> 117\u001b[0;31m         \u001b[0;32mreturn\u001b[0m \u001b[0mf\u001b[0m\u001b[0;34m(\u001b[0m\u001b[0;34m*\u001b[0m\u001b[0margs\u001b[0m\u001b[0;34m,\u001b[0m \u001b[0;34m**\u001b[0m\u001b[0mkwargs\u001b[0m\u001b[0;34m)\u001b[0m\u001b[0;34m\u001b[0m\u001b[0m\n\u001b[0m\u001b[1;32m    118\u001b[0m     \u001b[0;32mexcept\u001b[0m \u001b[0mException\u001b[0m \u001b[0;32mas\u001b[0m \u001b[0me\u001b[0m\u001b[0;34m:\u001b[0m\u001b[0;34m\u001b[0m\u001b[0m\n\u001b[1;32m    119\u001b[0m         \u001b[0;32mif\u001b[0m \u001b[0msys\u001b[0m\u001b[0;34m.\u001b[0m\u001b[0mversion_info\u001b[0m\u001b[0;34m[\u001b[0m\u001b[0;36m0\u001b[0m\u001b[0;34m]\u001b[0m \u001b[0;34m>=\u001b[0m \u001b[0;36m3\u001b[0m\u001b[0;34m:\u001b[0m\u001b[0;34m\u001b[0m\u001b[0m\n",
      "\u001b[0;32m/Users/carriesmith/anaconda/lib/python2.7/site-packages/patsy/eval.pyc\u001b[0m in \u001b[0;36meval\u001b[0;34m(self, expr, source_name, inner_namespace)\u001b[0m\n\u001b[1;32m    125\u001b[0m         \u001b[0mcode\u001b[0m \u001b[0;34m=\u001b[0m \u001b[0mcompile\u001b[0m\u001b[0;34m(\u001b[0m\u001b[0mexpr\u001b[0m\u001b[0;34m,\u001b[0m \u001b[0msource_name\u001b[0m\u001b[0;34m,\u001b[0m \u001b[0;34m\"eval\"\u001b[0m\u001b[0;34m,\u001b[0m \u001b[0mself\u001b[0m\u001b[0;34m.\u001b[0m\u001b[0mflags\u001b[0m\u001b[0;34m,\u001b[0m \u001b[0mFalse\u001b[0m\u001b[0;34m)\u001b[0m\u001b[0;34m\u001b[0m\u001b[0m\n\u001b[1;32m    126\u001b[0m         return eval(code, {}, VarLookupDict([inner_namespace]\n\u001b[0;32m--> 127\u001b[0;31m                                             + self._namespaces))\n\u001b[0m\u001b[1;32m    128\u001b[0m \u001b[0;34m\u001b[0m\u001b[0m\n\u001b[1;32m    129\u001b[0m     \u001b[0;34m@\u001b[0m\u001b[0mclassmethod\u001b[0m\u001b[0;34m\u001b[0m\u001b[0m\n",
      "\u001b[0;32m<string>\u001b[0m in \u001b[0;36m<module>\u001b[0;34m()\u001b[0m\n",
      "\u001b[0;31mNameError\u001b[0m: name 'sourcename_r' is not defined"
     ]
    }
   ],
   "source": [
    "%%time\n",
    "\n",
    "formula = 'salarynormalized ~ ( sourcename_r + locationnormalized_r + manager_r + category + contracttime + company_r) ** 2'\n",
    "print formula\n",
    "\n",
    "y, X = dmatrices(formula, data=data, return_type='dataframe')\n",
    "\n",
    "print 'Mean Absolute Error: ', cross_val_score(Ridge(alpha=10), X, y, cv=6, scoring='mean_absolute_error').mean()\n",
    "print 'R^2: ', cross_val_score(Ridge(alpha=10), X, y, cv=6, scoring='r2').mean()"
   ]
  },
  {
   "cell_type": "code",
   "execution_count": 66,
   "metadata": {
    "collapsed": false
   },
   "outputs": [
    {
     "name": "stdout",
     "output_type": "stream",
     "text": [
      "[-8587.96548753 -8960.98954898 -8440.57337022 -8256.53953192 -8557.46679567\n",
      " -9087.89725554]\n",
      "[ 0.39609285  0.38644629  0.32915627  0.37656613  0.34979594  0.32712661]\n",
      "CPU times: user 10min 36s, sys: 11.5 s, total: 10min 47s\n",
      "Wall time: 3min 20s\n"
     ]
    }
   ],
   "source": [
    "%%time\n",
    "\n",
    "print cross_val_score(Ridge(alpha=10), X, y, cv=6, scoring='mean_absolute_error')\n",
    "print cross_val_score(Ridge(alpha=10), X, y, cv=6, scoring='r2')"
   ]
  },
  {
   "cell_type": "markdown",
   "metadata": {},
   "source": [
    "## Explore Tweaking # Levels for Locations, Company and Source"
   ]
  },
  {
   "cell_type": "markdown",
   "metadata": {},
   "source": [
    "Didn't really have time to run this section."
   ]
  },
  {
   "cell_type": "code",
   "execution_count": 68,
   "metadata": {
    "collapsed": false,
    "scrolled": true
   },
   "outputs": [
    {
     "name": "stdout",
     "output_type": "stream",
     "text": [
      " Levels  20    Mean Absolute Error:  -8699.85956048\n",
      "Levels  30    Mean Absolute Error:  -8672.28889365\n",
      "Levels  40    Mean Absolute Error:  -8643.28716359\n",
      "Levels  50    Mean Absolute Error:  -8640.12080561\n",
      "Levels  60    Mean Absolute Error:  -8648.57199831\n",
      "Levels  70    Mean Absolute Error:  -8635.69071585\n",
      "Levels  80    Mean Absolute Error:  -8633.73541311\n",
      "Levels  90    Mean Absolute Error:  -8630.23032584\n",
      "Levels  100    Mean Absolute Error:  -8633.01549499\n",
      "Levels  110    Mean Absolute Error:  -8637.44610502\n"
     ]
    },
    {
     "name": "stderr",
     "output_type": "stream",
     "text": [
      "/Users/carriesmith/anaconda/lib/python2.7/site-packages/IPython/kernel/__main__.py:5: SettingWithCopyWarning: \n",
      "A value is trying to be set on a copy of a slice from a DataFrame.\n",
      "Try using .loc[row_indexer,col_indexer] = value instead\n",
      "\n",
      "See the the caveats in the documentation: http://pandas.pydata.org/pandas-docs/stable/indexing.html#indexing-view-versus-copy\n",
      "/Users/carriesmith/anaconda/lib/python2.7/site-packages/IPython/kernel/__main__.py:6: SettingWithCopyWarning: \n",
      "A value is trying to be set on a copy of a slice from a DataFrame.\n",
      "Try using .loc[row_indexer,col_indexer] = value instead\n",
      "\n",
      "See the the caveats in the documentation: http://pandas.pydata.org/pandas-docs/stable/indexing.html#indexing-view-versus-copy\n"
     ]
    },
    {
     "ename": "KeyboardInterrupt",
     "evalue": "",
     "output_type": "error",
     "traceback": [
      "\u001b[0;31m---------------------------------------------------------------------------\u001b[0m",
      "\u001b[0;31mKeyboardInterrupt\u001b[0m                         Traceback (most recent call last)",
      "\u001b[0;32m<ipython-input-68-d92ae20734a7>\u001b[0m in \u001b[0;36m<module>\u001b[0;34m()\u001b[0m\n\u001b[1;32m      3\u001b[0m \u001b[0;32mfor\u001b[0m \u001b[0mlevs\u001b[0m \u001b[0;32min\u001b[0m \u001b[0mrange\u001b[0m\u001b[0;34m(\u001b[0m\u001b[0;36m20\u001b[0m\u001b[0;34m,\u001b[0m \u001b[0;36m200\u001b[0m\u001b[0;34m,\u001b[0m \u001b[0;36m10\u001b[0m\u001b[0;34m)\u001b[0m\u001b[0;34m:\u001b[0m\u001b[0;34m\u001b[0m\u001b[0m\n\u001b[1;32m      4\u001b[0m     \u001b[0mdata\u001b[0m\u001b[0;34m,\u001b[0m \u001b[0mfinal_test\u001b[0m \u001b[0;34m=\u001b[0m \u001b[0mreduceCats\u001b[0m\u001b[0;34m(\u001b[0m\u001b[0mdata\u001b[0m\u001b[0;34m,\u001b[0m \u001b[0mfinal_test\u001b[0m\u001b[0;34m,\u001b[0m \u001b[0;34m'locationnormalized'\u001b[0m\u001b[0;34m,\u001b[0m \u001b[0mlevs\u001b[0m\u001b[0;34m,\u001b[0m \u001b[0mverbose\u001b[0m\u001b[0;34m=\u001b[0m\u001b[0mFalse\u001b[0m\u001b[0;34m)\u001b[0m\u001b[0;34m\u001b[0m\u001b[0m\n\u001b[0;32m----> 5\u001b[0;31m     \u001b[0my\u001b[0m\u001b[0;34m,\u001b[0m \u001b[0mX\u001b[0m \u001b[0;34m=\u001b[0m \u001b[0mdmatrices\u001b[0m\u001b[0;34m(\u001b[0m\u001b[0mformula\u001b[0m\u001b[0;34m,\u001b[0m \u001b[0mdata\u001b[0m\u001b[0;34m=\u001b[0m\u001b[0mdata\u001b[0m\u001b[0;34m,\u001b[0m \u001b[0mreturn_type\u001b[0m\u001b[0;34m=\u001b[0m\u001b[0;34m'dataframe'\u001b[0m\u001b[0;34m)\u001b[0m\u001b[0;34m\u001b[0m\u001b[0m\n\u001b[0m\u001b[1;32m      6\u001b[0m     \u001b[0;32mprint\u001b[0m \u001b[0;34m'Levels '\u001b[0m\u001b[0;34m,\u001b[0m \u001b[0mlevs\u001b[0m\u001b[0;34m,\u001b[0m \u001b[0;34m'   Mean Absolute Error: '\u001b[0m\u001b[0;34m,\u001b[0m \u001b[0mcross_val_score\u001b[0m\u001b[0;34m(\u001b[0m\u001b[0mRidge\u001b[0m\u001b[0;34m(\u001b[0m\u001b[0malpha\u001b[0m\u001b[0;34m=\u001b[0m\u001b[0;36m10\u001b[0m\u001b[0;34m)\u001b[0m\u001b[0;34m,\u001b[0m \u001b[0mX\u001b[0m\u001b[0;34m,\u001b[0m \u001b[0my\u001b[0m\u001b[0;34m,\u001b[0m \u001b[0mcv\u001b[0m\u001b[0;34m=\u001b[0m\u001b[0;36m6\u001b[0m\u001b[0;34m,\u001b[0m \u001b[0mscoring\u001b[0m\u001b[0;34m=\u001b[0m\u001b[0;34m'mean_absolute_error'\u001b[0m\u001b[0;34m)\u001b[0m\u001b[0;34m.\u001b[0m\u001b[0mmean\u001b[0m\u001b[0;34m(\u001b[0m\u001b[0;34m)\u001b[0m\u001b[0;34m\u001b[0m\u001b[0m\n",
      "\u001b[0;32m/Users/carriesmith/anaconda/lib/python2.7/site-packages/patsy/highlevel.pyc\u001b[0m in \u001b[0;36mdmatrices\u001b[0;34m(formula_like, data, eval_env, NA_action, return_type)\u001b[0m\n\u001b[1;32m    295\u001b[0m     \u001b[0meval_env\u001b[0m \u001b[0;34m=\u001b[0m \u001b[0mEvalEnvironment\u001b[0m\u001b[0;34m.\u001b[0m\u001b[0mcapture\u001b[0m\u001b[0;34m(\u001b[0m\u001b[0meval_env\u001b[0m\u001b[0;34m,\u001b[0m \u001b[0mreference\u001b[0m\u001b[0;34m=\u001b[0m\u001b[0;36m1\u001b[0m\u001b[0;34m)\u001b[0m\u001b[0;34m\u001b[0m\u001b[0m\n\u001b[1;32m    296\u001b[0m     (lhs, rhs) = _do_highlevel_design(formula_like, data, eval_env,\n\u001b[0;32m--> 297\u001b[0;31m                                       NA_action, return_type)\n\u001b[0m\u001b[1;32m    298\u001b[0m     \u001b[0;32mif\u001b[0m \u001b[0mlhs\u001b[0m\u001b[0;34m.\u001b[0m\u001b[0mshape\u001b[0m\u001b[0;34m[\u001b[0m\u001b[0;36m1\u001b[0m\u001b[0;34m]\u001b[0m \u001b[0;34m==\u001b[0m \u001b[0;36m0\u001b[0m\u001b[0;34m:\u001b[0m\u001b[0;34m\u001b[0m\u001b[0m\n\u001b[1;32m    299\u001b[0m         \u001b[0;32mraise\u001b[0m \u001b[0mPatsyError\u001b[0m\u001b[0;34m(\u001b[0m\u001b[0;34m\"model is missing required outcome variables\"\u001b[0m\u001b[0;34m)\u001b[0m\u001b[0;34m\u001b[0m\u001b[0m\n",
      "\u001b[0;32m/Users/carriesmith/anaconda/lib/python2.7/site-packages/patsy/highlevel.pyc\u001b[0m in \u001b[0;36m_do_highlevel_design\u001b[0;34m(formula_like, data, eval_env, NA_action, return_type)\u001b[0m\n\u001b[1;32m    154\u001b[0m         return build_design_matrices(builders, data,\n\u001b[1;32m    155\u001b[0m                                      \u001b[0mNA_action\u001b[0m\u001b[0;34m=\u001b[0m\u001b[0mNA_action\u001b[0m\u001b[0;34m,\u001b[0m\u001b[0;34m\u001b[0m\u001b[0m\n\u001b[0;32m--> 156\u001b[0;31m                                      return_type=return_type)\n\u001b[0m\u001b[1;32m    157\u001b[0m     \u001b[0;32melse\u001b[0m\u001b[0;34m:\u001b[0m\u001b[0;34m\u001b[0m\u001b[0m\n\u001b[1;32m    158\u001b[0m         \u001b[0;31m# No builders, but maybe we can still get matrices\u001b[0m\u001b[0;34m\u001b[0m\u001b[0;34m\u001b[0m\u001b[0m\n",
      "\u001b[0;32m/Users/carriesmith/anaconda/lib/python2.7/site-packages/patsy/build.pyc\u001b[0m in \u001b[0;36mbuild_design_matrices\u001b[0;34m(builders, data, NA_action, return_type, dtype)\u001b[0m\n\u001b[1;32m    987\u001b[0m     \u001b[0mresults\u001b[0m \u001b[0;34m=\u001b[0m \u001b[0;34m[\u001b[0m\u001b[0;34m]\u001b[0m\u001b[0;34m\u001b[0m\u001b[0m\n\u001b[1;32m    988\u001b[0m     \u001b[0;32mfor\u001b[0m \u001b[0mbuilder\u001b[0m \u001b[0;32min\u001b[0m \u001b[0mbuilders\u001b[0m\u001b[0;34m:\u001b[0m\u001b[0;34m\u001b[0m\u001b[0m\n\u001b[0;32m--> 989\u001b[0;31m         \u001b[0mresults\u001b[0m\u001b[0;34m.\u001b[0m\u001b[0mappend\u001b[0m\u001b[0;34m(\u001b[0m\u001b[0mbuilder\u001b[0m\u001b[0;34m.\u001b[0m\u001b[0m_build\u001b[0m\u001b[0;34m(\u001b[0m\u001b[0mevaluator_to_values\u001b[0m\u001b[0;34m,\u001b[0m \u001b[0mdtype\u001b[0m\u001b[0;34m)\u001b[0m\u001b[0;34m)\u001b[0m\u001b[0;34m\u001b[0m\u001b[0m\n\u001b[0m\u001b[1;32m    990\u001b[0m     \u001b[0mmatrices\u001b[0m \u001b[0;34m=\u001b[0m \u001b[0;34m[\u001b[0m\u001b[0;34m]\u001b[0m\u001b[0;34m\u001b[0m\u001b[0m\n\u001b[1;32m    991\u001b[0m     \u001b[0;32mfor\u001b[0m \u001b[0mneed_reshape\u001b[0m\u001b[0;34m,\u001b[0m \u001b[0mmatrix\u001b[0m \u001b[0;32min\u001b[0m \u001b[0mresults\u001b[0m\u001b[0;34m:\u001b[0m\u001b[0;34m\u001b[0m\u001b[0m\n",
      "\u001b[0;32m/Users/carriesmith/anaconda/lib/python2.7/site-packages/patsy/build.pyc\u001b[0m in \u001b[0;36m_build\u001b[0;34m(self, evaluator_to_values, dtype)\u001b[0m\n\u001b[1;32m    826\u001b[0m                 \u001b[0mend_column\u001b[0m \u001b[0;34m=\u001b[0m \u001b[0mstart_column\u001b[0m \u001b[0;34m+\u001b[0m \u001b[0mcolumn_builder\u001b[0m\u001b[0;34m.\u001b[0m\u001b[0mtotal_columns\u001b[0m\u001b[0;34m\u001b[0m\u001b[0m\n\u001b[1;32m    827\u001b[0m                 \u001b[0mm_slice\u001b[0m \u001b[0;34m=\u001b[0m \u001b[0mm\u001b[0m\u001b[0;34m[\u001b[0m\u001b[0;34m:\u001b[0m\u001b[0;34m,\u001b[0m \u001b[0mstart_column\u001b[0m\u001b[0;34m:\u001b[0m\u001b[0mend_column\u001b[0m\u001b[0;34m]\u001b[0m\u001b[0;34m\u001b[0m\u001b[0m\n\u001b[0;32m--> 828\u001b[0;31m                 \u001b[0mcolumn_builder\u001b[0m\u001b[0;34m.\u001b[0m\u001b[0mbuild\u001b[0m\u001b[0;34m(\u001b[0m\u001b[0mfactor_to_values\u001b[0m\u001b[0;34m,\u001b[0m \u001b[0mm_slice\u001b[0m\u001b[0;34m)\u001b[0m\u001b[0;34m\u001b[0m\u001b[0m\n\u001b[0m\u001b[1;32m    829\u001b[0m                 \u001b[0mstart_column\u001b[0m \u001b[0;34m=\u001b[0m \u001b[0mend_column\u001b[0m\u001b[0;34m\u001b[0m\u001b[0m\n\u001b[1;32m    830\u001b[0m         \u001b[0;32massert\u001b[0m \u001b[0mstart_column\u001b[0m \u001b[0;34m==\u001b[0m \u001b[0mself\u001b[0m\u001b[0;34m.\u001b[0m\u001b[0mtotal_columns\u001b[0m\u001b[0;34m\u001b[0m\u001b[0m\n",
      "\u001b[0;32m/Users/carriesmith/anaconda/lib/python2.7/site-packages/patsy/build.pyc\u001b[0m in \u001b[0;36mbuild\u001b[0;34m(self, factor_values, out)\u001b[0m\n\u001b[1;32m    272\u001b[0m                                          \"containing missing values\", factor)\n\u001b[1;32m    273\u001b[0m                     out[:, i] *= contrast.matrix[factor_values[factor],\n\u001b[0;32m--> 274\u001b[0;31m                                                  column_idx]\n\u001b[0m\u001b[1;32m    275\u001b[0m                 \u001b[0;32melse\u001b[0m\u001b[0;34m:\u001b[0m\u001b[0;34m\u001b[0m\u001b[0m\n\u001b[1;32m    276\u001b[0m                     assert (factor_values[factor].shape[1]\n",
      "\u001b[0;31mKeyboardInterrupt\u001b[0m: "
     ]
    }
   ],
   "source": [
    "formula = 'salarynormalized ~ ( sourcename_r + locationnormalized_r + manager_r + category + contracttime + company_r) ** 2'\n",
    "\n",
    "for levs in range(20, 100, 10):\n",
    "    data, final_test = reduceCats(data, final_test, 'locationnormalized', levs, verbose=False)\n",
    "    y, X = dmatrices(formula, data=data, return_type='dataframe')\n",
    "    print 'Levels ', levs, '   Mean Absolute Error: ', cross_val_score(Ridge(alpha=10), X, y, cv=6, scoring='mean_absolute_error').mean()"
   ]
  },
  {
   "cell_type": "code",
   "execution_count": 69,
   "metadata": {
    "collapsed": false
   },
   "outputs": [
    {
     "name": "stderr",
     "output_type": "stream",
     "text": [
      "/Users/carriesmith/anaconda/lib/python2.7/site-packages/IPython/kernel/__main__.py:5: SettingWithCopyWarning: \n",
      "A value is trying to be set on a copy of a slice from a DataFrame.\n",
      "Try using .loc[row_indexer,col_indexer] = value instead\n",
      "\n",
      "See the the caveats in the documentation: http://pandas.pydata.org/pandas-docs/stable/indexing.html#indexing-view-versus-copy\n",
      "/Users/carriesmith/anaconda/lib/python2.7/site-packages/IPython/kernel/__main__.py:6: SettingWithCopyWarning: \n",
      "A value is trying to be set on a copy of a slice from a DataFrame.\n",
      "Try using .loc[row_indexer,col_indexer] = value instead\n",
      "\n",
      "See the the caveats in the documentation: http://pandas.pydata.org/pandas-docs/stable/indexing.html#indexing-view-versus-copy\n"
     ]
    }
   ],
   "source": [
    "data, final_test = reduceCats(data, final_test, 'locationnormalized', 80, verbose=False)"
   ]
  },
  {
   "cell_type": "code",
   "execution_count": null,
   "metadata": {
    "collapsed": true
   },
   "outputs": [],
   "source": [
    "for n_loc in range(20, 200, 20):\n",
    "    data, final_test = reduceCats(data, final_test, 'company', levs, verbose=False)\n",
    "    y, X = dmatrices(formula, data=data, return_type='dataframe')\n",
    "    print 'Levels ', levs, '   Mean Absolute Error: ', cross_val_score(Ridge(alpha=10), X, y, cv=6, scoring='mean_absolute_error').mean()"
   ]
  },
  {
   "cell_type": "code",
   "execution_count": null,
   "metadata": {
    "collapsed": true
   },
   "outputs": [],
   "source": [
    "for n_loc in range(10, 40, 5):\n",
    "    data, final_test = reduceCats(data, final_test, 'source', levs, verbose=False)\n",
    "    y, X = dmatrices(formula, data=data, return_type='dataframe')\n",
    "    print 'Levels ', levs, '   Mean Absolute Error: ', cross_val_score(Ridge(alpha=10), X, y, cv=6, scoring='mean_absolute_error').mean()"
   ]
  },
  {
   "cell_type": "markdown",
   "metadata": {},
   "source": [
    "## Tweaking Ridge Alpha"
   ]
  },
  {
   "cell_type": "code",
   "execution_count": 74,
   "metadata": {
    "collapsed": false
   },
   "outputs": [
    {
     "name": "stdout",
     "output_type": "stream",
     "text": [
      " Alpha:  0.01    Mean Absolute Error:  -10042.1991796\n",
      "Alpha:  0.1    Mean Absolute Error:  -9484.64025919\n",
      "Alpha:  1    Mean Absolute Error:  -8888.36244308\n",
      "Alpha:  10    Mean Absolute Error:  -8633.73541311\n",
      "Alpha:  100    Mean Absolute Error:  -8850.81653232\n",
      "Alpha:  1000    Mean Absolute Error:  -9629.72003758\n"
     ]
    },
    {
     "name": "stderr",
     "output_type": "stream",
     "text": [
      "/Users/carriesmith/anaconda/lib/python2.7/site-packages/IPython/kernel/__main__.py:5: SettingWithCopyWarning: \n",
      "A value is trying to be set on a copy of a slice from a DataFrame.\n",
      "Try using .loc[row_indexer,col_indexer] = value instead\n",
      "\n",
      "See the the caveats in the documentation: http://pandas.pydata.org/pandas-docs/stable/indexing.html#indexing-view-versus-copy\n",
      "/Users/carriesmith/anaconda/lib/python2.7/site-packages/IPython/kernel/__main__.py:6: SettingWithCopyWarning: \n",
      "A value is trying to be set on a copy of a slice from a DataFrame.\n",
      "Try using .loc[row_indexer,col_indexer] = value instead\n",
      "\n",
      "See the the caveats in the documentation: http://pandas.pydata.org/pandas-docs/stable/indexing.html#indexing-view-versus-copy\n"
     ]
    }
   ],
   "source": [
    "data, final_test = reduceCats(data, final_test, 'locationnormalized', 80, verbose=False)\n",
    "data, final_test = reduceCats(data, final_test, 'company', 60, verbose=False)\n",
    "data, final_test = reduceCats(data, final_test, 'sourcename', 20, verbose=False)\n",
    "\n",
    "formula = 'salarynormalized ~ ( sourcename_r + locationnormalized_r + manager_r + category + contracttime + company_r) ** 2'\n",
    "\n",
    "for alpha_exp in range(-2, 4):\n",
    "    y, X = dmatrices(formula, data=data, return_type='dataframe')\n",
    "    alpha = 10 ** alpha_exp\n",
    "    print 'Alpha: ', alpha, '   Mean Absolute Error: ', cross_val_score(Ridge(alpha=alpha), X, y, cv=6, scoring='mean_absolute_error').mean()"
   ]
  },
  {
   "cell_type": "markdown",
   "metadata": {},
   "source": [
    "## Getting Crazy 3-Way Interactions"
   ]
  },
  {
   "cell_type": "raw",
   "metadata": {},
   "source": [
    "data, final_test = reduceCats(data, final_test, 'locationnormalized', 40, verbose=False)\n",
    "data, final_test = reduceCats(data, final_test, 'company', 40, verbose=False)\n",
    "data, final_test = reduceCats(data, final_test, 'sourcename', 20, verbose=False)\n",
    "\n",
    "formula = 'salarynormalized ~ ( sourcename_r + locationnormalized_r + manager_r + category + contracttime + company_r) ** 3'\n",
    "y, X = dmatrices(formula, data=data, return_type='dataframe')\n",
    "\n",
    "for alpha_exp in range(0, 2):\n",
    "    y, X = dmatrices(formula, data=data, return_type='dataframe')\n",
    "    alpha = 10 ** alpha_exp\n",
    "    print 'Alpha: ', alpha, '   Mean Absolute Error: ', cross_val_score(Ridge(alpha=alpha), X, y, cv=6, scoring='mean_absolute_error').mean()"
   ]
  },
  {
   "cell_type": "markdown",
   "metadata": {},
   "source": [
    "These don't seem to be helping anything."
   ]
  },
  {
   "cell_type": "markdown",
   "metadata": {},
   "source": [
    "## Count Vectorizer Title and Full Description"
   ]
  },
  {
   "cell_type": "code",
   "execution_count": 15,
   "metadata": {
    "collapsed": false
   },
   "outputs": [
    {
     "name": "stdout",
     "output_type": "stream",
     "text": [
      "[u'account', u'administrator', u'advisor', u'analyst', u'assistant', u'business', u'care', u'care assistant', u'care worker', u'chef', u'chef partie', u'commercial', u'consultant', u'coordinator', u'customer', u'deputy', u'deputy manager', u'design', u'developer', u'development', u'engineer', u'executive', u'financial', u'general', u'health', u'home', u'home manager', u'hotel', u'job', u'jobs', u'lead', u'leader', u'live', u'london', u'maintenance', u'manager', u'mechanical', u'nurse', u'nurse rgn', u'nursing', u'nursing home', u'officer', u'partie', u'practitioner', u'project', u'project manager', u'quality', u'recruitment', u'recruitment consultant', u'registered', u'registered nurse', u'required', u'rgn', u'rgn rmn', u'rmn', u'sales', u'sales executive', u'senior', u'service', u'services', u'social', u'social worker', u'software', u'staff', u'staff nurse', u'support', u'support worker', u'teacher', u'team', u'technical', u'technician', u'web', u'worker', u'worker job', u'workers']\n"
     ]
    }
   ],
   "source": [
    "countVec = CountVectorizer( stop_words = 'english' , ngram_range=(1,3), \n",
    "                     max_features=100, # number of features\n",
    "                     min_df=.01, # only use words that appear at least some times (integer = absolute count)\n",
    "                     max_df=.95)  # ignore words that appear too frequently\n",
    "\n",
    "X_title, y = countVec.fit_transform(data.title).todense(), data.salarynormalized\n",
    "print countVec.get_feature_names()"
   ]
  },
  {
   "cell_type": "code",
   "execution_count": 16,
   "metadata": {
    "collapsed": false
   },
   "outputs": [
    {
     "name": "stdout",
     "output_type": "stream",
     "text": [
      "Mean Absolute Error:  -9288.97376724\n"
     ]
    }
   ],
   "source": [
    "print 'Mean Absolute Error: ', cross_val_score(Ridge(alpha=10), X_title, y, cv=10, scoring='mean_absolute_error').mean()"
   ]
  },
  {
   "cell_type": "markdown",
   "metadata": {},
   "source": [
    "## Combining Both"
   ]
  },
  {
   "cell_type": "code",
   "execution_count": 12,
   "metadata": {
    "collapsed": false
   },
   "outputs": [
    {
     "name": "stdout",
     "output_type": "stream",
     "text": [
      "(8000, 16)\n",
      "(2000, 16)\n",
      "(10000, 16)\n"
     ]
    },
    {
     "name": "stderr",
     "output_type": "stream",
     "text": [
      "/Users/carriesmith/anaconda/lib/python2.7/site-packages/IPython/kernel/__main__.py:5: SettingWithCopyWarning: \n",
      "A value is trying to be set on a copy of a slice from a DataFrame.\n",
      "Try using .loc[row_indexer,col_indexer] = value instead\n",
      "\n",
      "See the the caveats in the documentation: http://pandas.pydata.org/pandas-docs/stable/indexing.html#indexing-view-versus-copy\n",
      "/Users/carriesmith/anaconda/lib/python2.7/site-packages/IPython/kernel/__main__.py:6: SettingWithCopyWarning: \n",
      "A value is trying to be set on a copy of a slice from a DataFrame.\n",
      "Try using .loc[row_indexer,col_indexer] = value instead\n",
      "\n",
      "See the the caveats in the documentation: http://pandas.pydata.org/pandas-docs/stable/indexing.html#indexing-view-versus-copy\n"
     ]
    }
   ],
   "source": [
    "data, final_test = reduceCats(data, final_test, 'locationnormalized', 60, verbose=False)\n",
    "data, final_test = reduceCats(data, final_test, 'company', 60, verbose=False)\n",
    "data, final_test = reduceCats(data, final_test, 'sourcename', 20, verbose=False)\n",
    "\n",
    "df = pd.concat([data, final_test])\n",
    "\n",
    "print data.shape\n",
    "print final_test.shape\n",
    "print df.shape"
   ]
  },
  {
   "cell_type": "code",
   "execution_count": 30,
   "metadata": {
    "collapsed": false
   },
   "outputs": [],
   "source": [
    "formula = 'salarynormalized ~ ( sourcename_r + locationnormalized_r + manager_r + category + contracttime + company_r) ** 2'\n",
    "y, X = dmatrices(formula, data=df, return_type='dataframe')"
   ]
  },
  {
   "cell_type": "code",
   "execution_count": 31,
   "metadata": {
    "collapsed": false
   },
   "outputs": [
    {
     "data": {
      "text/plain": [
       "Ridge(alpha=10, copy_X=True, fit_intercept=True, max_iter=None,\n",
       "   normalize=False, solver='auto', tol=0.001)"
      ]
     },
     "execution_count": 31,
     "metadata": {},
     "output_type": "execute_result"
    }
   ],
   "source": [
    "X_train = X.loc[range(0,8000),:]\n",
    "y_train = y.loc[range(0,8000),:]\n",
    "\n",
    "X_all_train = np.hstack([X_title, X_train])\n",
    "\n",
    "model = Ridge(alpha=10)\n",
    "model.fit(X_all_train, y_train)\n",
    "\n",
    "# # X_test_all = hstack(X_test_title, X_test)\n",
    "# # print 'Mean Absolute Error: ', cross_val_score(Ridge(alpha=10), X_test_all, y, cv=10, scoring='mean_absolute_error').mean()"
   ]
  },
  {
   "cell_type": "code",
   "execution_count": 50,
   "metadata": {
    "collapsed": false
   },
   "outputs": [
    {
     "name": "stdout",
     "output_type": "stream",
     "text": [
      "(8000, 75)\n",
      "(8000, 10454)\n",
      "(8000, 10529)\n"
     ]
    }
   ],
   "source": [
    "print X_title.shape\n",
    "print X_train.shape\n",
    "print X_all_train.shape"
   ]
  },
  {
   "cell_type": "code",
   "execution_count": 55,
   "metadata": {
    "collapsed": false
   },
   "outputs": [],
   "source": [
    "X_test = X.loc[range(8000,10000),:]\n",
    "y_test = y.loc[range(8000,10000),:]\n",
    "\n",
    "X_test_title = countVec.transform(final_test.title).todense()"
   ]
  },
  {
   "cell_type": "code",
   "execution_count": 56,
   "metadata": {
    "collapsed": false
   },
   "outputs": [
    {
     "name": "stdout",
     "output_type": "stream",
     "text": [
      "(2000, 75)\n",
      "(2000, 10454)\n"
     ]
    }
   ],
   "source": [
    "print X_test_title.shape\n",
    "print X_test.shape"
   ]
  },
  {
   "cell_type": "code",
   "execution_count": 57,
   "metadata": {
    "collapsed": false
   },
   "outputs": [],
   "source": [
    "X_test_all = np.hstack([X_test_title, X_test])"
   ]
  },
  {
   "cell_type": "code",
   "execution_count": 58,
   "metadata": {
    "collapsed": false
   },
   "outputs": [
    {
     "data": {
      "text/plain": [
       "0.35986031062692991"
      ]
     },
     "execution_count": 58,
     "metadata": {},
     "output_type": "execute_result"
    }
   ],
   "source": [
    "model.score(X_test_all, y_test)"
   ]
  },
  {
   "cell_type": "code",
   "execution_count": 62,
   "metadata": {
    "collapsed": false
   },
   "outputs": [
    {
     "data": {
      "text/plain": [
       "salarynormalized    9914.564988\n",
       "dtype: float64"
      ]
     },
     "execution_count": 62,
     "metadata": {},
     "output_type": "execute_result"
    }
   ],
   "source": [
    "abs(model.predict(X_test_all)-y_test).sum()/len(y_test)"
   ]
  },
  {
   "cell_type": "markdown",
   "metadata": {},
   "source": [
    "Well, that isn't good at all."
   ]
  }
 ],
 "metadata": {
  "kernelspec": {
   "display_name": "Python 2",
   "language": "python",
   "name": "python2"
  },
  "language_info": {
   "codemirror_mode": {
    "name": "ipython",
    "version": 2
   },
   "file_extension": ".py",
   "mimetype": "text/x-python",
   "name": "python",
   "nbconvert_exporter": "python",
   "pygments_lexer": "ipython2",
   "version": "2.7.10"
  }
 },
 "nbformat": 4,
 "nbformat_minor": 0
}
